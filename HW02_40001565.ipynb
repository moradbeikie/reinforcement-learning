{
  "cells": [
    {
      "cell_type": "code",
      "execution_count": 53,
      "id": "83691370",
      "metadata": {
        "id": "83691370"
      },
      "outputs": [],
      "source": [
        "\n",
        "\n",
        "#کتابخانه مورد نیاز\n",
        "import numpy as np\n",
        "import numpy.random as nr"
      ]
    },
    {
      "cell_type": "code",
      "source": [
        "#تعریف همسایه ها در هر حالت \n",
        "#u ---> بالا\n",
        "#d ---> پایین\n",
        "#l ---> چپ\n",
        "#r ---> راست\n",
        "\n",
        "neighbors = {0:{'u':8, 'd':0, 'l':0, 'r':1},\n",
        "          1:{'u':9, 'd':1, 'l':0, 'r':2},\n",
        "          2:{'u':10, 'd':2, 'l':1, 'r':3},\n",
        "          3:{'u':11, 'd':3, 'l':2, 'r':4},\n",
        "          4:{'u':4, 'd':4, 'l':3, 'r':5},\n",
        "          5:{'u':13, 'd':5, 'l':4, 'r':6},\n",
        "          6:{'u':14, 'd':6, 'l':5, 'r':7},\n",
        "          7:{'u':15, 'd':7, 'l':6, 'r':7},\n",
        "\n",
        "\n",
        "          8:{'u':16, 'd':0, 'l':8, 'r':9},\n",
        "          9:{'u':17, 'd':1, 'l':8, 'r':10},\n",
        "          10:{'u':18, 'd':2, 'l':9, 'r':11},\n",
        "          11:{'u':19, 'd':3, 'l':10, 'r':11},\n",
        "          12:{'u':12, 'd':12, 'l':12, 'r':12},###دیوار\n",
        "          13:{'u':21, 'd':5, 'l':13, 'r':14},\n",
        "          14:{'u':22, 'd':6, 'l':13, 'r':15},\n",
        "          15:{'u':23, 'd':7, 'l':14, 'r':15},\n",
        "\n",
        "\n",
        "          16:{'u':24, 'd':8, 'l':16, 'r':17},\n",
        "          17:{'u':25, 'd':9, 'l':16, 'r':18},\n",
        "          18:{'u':18, 'd':10, 'l':17, 'r':19},\n",
        "          19:{'u':27, 'd':11, 'l':18, 'r':20},\n",
        "          20:{'u':28, 'd':20, 'l':19, 'r':21},\n",
        "          21:{'u':29, 'd':13, 'l':20, 'r':22},\n",
        "          22:{'u':30, 'd':14, 'l':21, 'r':23},\n",
        "          23:{'u':31, 'd':15, 'l':22, 'r':23},\n",
        "\n",
        "\n",
        "          24:{'u':32, 'd':16, 'l':24, 'r':25},\n",
        "          25:{'u':33, 'd':17, 'l':24, 'r':25},\n",
        "          26:{'u':26, 'd':26, 'l':26, 'r':26},###دیوار\n",
        "          27:{'u':35, 'd':19, 'l':27, 'r':28},\n",
        "          28:{'u':36, 'd':20, 'l':27, 'r':29},\n",
        "          29:{'u':37, 'd':21, 'l':28, 'r':30},\n",
        "          30:{'u':38, 'd':22, 'l':29, 'r':31},\n",
        "          31:{'u':39, 'd':23, 'l':30, 'r':31},\n",
        "\n",
        "\n",
        "          32:{'u':40, 'd':24, 'l':32, 'r':33},\n",
        "          33:{'u':41, 'd':25, 'l':32, 'r':33},\n",
        "          34:{'u':34, 'd':34, 'l':34, 'r':34},###دیوار\n",
        "          35:{'u':43, 'd':27, 'l':35, 'r':36},\n",
        "          36:{'u':44, 'd':28, 'l':35, 'r':37},\n",
        "          37:{'u':45, 'd':29, 'l':36, 'r':38},\n",
        "          38:{'u':38, 'd':30, 'l':37, 'r':39},\n",
        "          39:{'u':47, 'd':31, 'l':38, 'r':39},\n",
        "\n",
        "\n",
        "          40:{'u':48, 'd':32, 'l':40, 'r':41},\n",
        "          41:{'u':49, 'd':33, 'l':40, 'r':41},\n",
        "          42:{'u':42, 'd':42, 'l':42, 'r':42},###دیوار\n",
        "          43:{'u':51, 'd':35, 'l':43, 'r':44},\n",
        "          44:{'u':52, 'd':36, 'l':43, 'r':45},\n",
        "          45:{'u':53, 'd':37, 'l':44, 'r':45},\n",
        "          46:{'u':46, 'd':46, 'l':46, 'r':46},###دیوار\n",
        "          47:{'u':55, 'd':39, 'l':47, 'r':47},\n",
        "\n",
        "\n",
        "          48:{'u':56, 'd':40, 'l':48, 'r':49},\n",
        "          49:{'u':57, 'd':41, 'l':48, 'r':50},\n",
        "          50:{'u':58, 'd':50, 'l':49, 'r':51},\n",
        "          51:{'u':59, 'd':43, 'l':50, 'r':52},\n",
        "          52:{'u':60, 'd':44, 'l':51, 'r':53},\n",
        "          53:{'u':61, 'd':45, 'l':52, 'r':53},\n",
        "          54:{'u':54, 'd':54, 'l':54, 'r':54},###دیوار\n",
        "          55:{'u':63, 'd':47, 'l':55, 'r':55},\n",
        "\n",
        "\n",
        "          56:{'u':56, 'd':48, 'l':56, 'r':57},\n",
        "          57:{'u':57, 'd':49, 'l':56, 'r':58},\n",
        "          58:{'u':58, 'd':50, 'l':57, 'r':59},\n",
        "          59:{'u':59, 'd':51, 'l':58, 'r':60},          \n",
        "          60:{'u':60, 'd':52, 'l':59, 'r':61},\n",
        "          61:{'u':61, 'd':53, 'l':60, 'r':61},\n",
        "          62:{'u':62, 'd':62, 'l':62, 'r':62},###دیوار\n",
        "          63:{'u':63, 'd':63, 'l':63, 'r':63} #هدف\n",
        "          }"
      ],
      "metadata": {
        "id": "ctvfvXuZUM10"
      },
      "id": "ctvfvXuZUM10",
      "execution_count": 4,
      "outputs": []
    },
    {
      "cell_type": "code",
      "source": [
        "#ایجاد سیاست تصادفی اولیه\n",
        "\n",
        "\n",
        "policy  = {0:{'u':0.25, 'd':0.25, 'l':0.25, 'r':0.25},\n",
        "          1:{'u':0.25, 'd':0.25, 'l':0.25, 'r':0.25},\n",
        "          2:{'u':0.25, 'd':0.25, 'l':0.25, 'r':0.25},\n",
        "          3:{'u':0.25, 'd':0.25, 'l':0.25, 'r':0.25},\n",
        "          4:{'u':0.25, 'd':0.25, 'l':0.25, 'r':0.25},\n",
        "          5:{'u':0.25, 'd':0.25, 'l':0.25, 'r':0.25},\n",
        "          6:{'u':0.25, 'd':0.25, 'l':0.25, 'r':0.25},\n",
        "          7:{'u':0.25, 'd':0.25, 'l':0.25, 'r':0.25},\n",
        "\n",
        "\n",
        "          8:{'u':0.25, 'd':0.25, 'l':0.25, 'r':0.25},\n",
        "          9:{'u':0.25, 'd':0.25, 'l':0.25, 'r':0.25},\n",
        "          10:{'u':0.25, 'd':0.25, 'l':0.25, 'r':0.25},\n",
        "          11:{'u':0.25, 'd':0.25, 'l':0.25, 'r':0.25},\n",
        "          12:{'u':0, 'd':0, 'l':0, 'r':0},###دیوار\n",
        "          13:{'u':0.25, 'd':0.25, 'l':0.25, 'r':0.25},\n",
        "          14:{'u':0.25, 'd':0.25, 'l':0.25, 'r':0.25},\n",
        "          15:{'u':0.25, 'd':0.25, 'l':0.25, 'r':0.25},\n",
        "\n",
        "\n",
        "          16:{'u':0.25, 'd':0.25, 'l':0.25, 'r':0.25},\n",
        "          17:{'u':0.25, 'd':0.25, 'l':0.25, 'r':0.25},\n",
        "          18:{'u':0.25, 'd':0.25, 'l':0.25, 'r':0.25},\n",
        "          19:{'u':0.25, 'd':0.25, 'l':0.25, 'r':0.25},\n",
        "          20:{'u':0.25, 'd':0.25, 'l':0.25, 'r':0.25},\n",
        "          21:{'u':0.25, 'd':0.25, 'l':0.25, 'r':0.25},\n",
        "          22:{'u':0.25, 'd':0.25, 'l':0.25, 'r':0.25},\n",
        "          23:{'u':0.25, 'd':0.25, 'l':0.25, 'r':0.25},\n",
        "\n",
        "\n",
        "          24:{'u':0.25, 'd':0.25, 'l':0.25, 'r':0.25},\n",
        "          25:{'u':0.25, 'd':0.25, 'l':0.25, 'r':0.25},\n",
        "          26:{'u':0, 'd':0, 'l':0, 'r':0},###دیوار\n",
        "          27:{'u':0.25, 'd':0.25, 'l':0.25, 'r':0.25},\n",
        "          28:{'u':0.25, 'd':0.25, 'l':0.25, 'r':0.25},\n",
        "          29:{'u':0.25, 'd':0.25, 'l':0.25, 'r':0.25},\n",
        "          30:{'u':0.25, 'd':0.25, 'l':0.25, 'r':0.25},\n",
        "          31:{'u':0.25, 'd':0.25, 'l':0.25, 'r':0.25},\n",
        "\n",
        "\n",
        "          32:{'u':0.25, 'd':0.25, 'l':0.25, 'r':0.25},\n",
        "          33:{'u':0.25, 'd':0.25, 'l':0.25, 'r':0.25},\n",
        "          34:{'u':0, 'd':0, 'l':0, 'r':0},###دیوار\n",
        "          35:{'u':0.25, 'd':0.25, 'l':0.25, 'r':0.25},\n",
        "          36:{'u':0.25, 'd':0.25, 'l':0.25, 'r':0.25},\n",
        "          37:{'u':0.25, 'd':0.25, 'l':0.25, 'r':0.25},\n",
        "          38:{'u':0.25, 'd':0.25, 'l':0.25, 'r':0.25},\n",
        "          39:{'u':0.25, 'd':0.25, 'l':0.25, 'r':0.25},\n",
        "\n",
        "\n",
        "          40:{'u':0.25, 'd':0.25, 'l':0.25, 'r':0.25},\n",
        "          41:{'u':0.25, 'd':0.25, 'l':0.25, 'r':0.25},\n",
        "          42:{'u':0, 'd':0, 'l':0, 'r':0},###دیوار\n",
        "          43:{'u':0.25, 'd':0.25, 'l':0.25, 'r':0.25},\n",
        "          44:{'u':0.25, 'd':0.25, 'l':0.25, 'r':0.25},\n",
        "          45:{'u':0.25, 'd':0.25, 'l':0.25, 'r':0.25},\n",
        "          46:{'u':0, 'd':0, 'l':0, 'r':0},###دیوار\n",
        "          47:{'u':0.25, 'd':0.25, 'l':0.25, 'r':0.25},\n",
        "\n",
        "\n",
        "          48:{'u':0.25, 'd':0.25, 'l':0.25, 'r':0.25},\n",
        "          49:{'u':0.25, 'd':0.25, 'l':0.25, 'r':0.25},\n",
        "          50:{'u':0.25, 'd':0.25, 'l':0.25, 'r':0.25},\n",
        "          51:{'u':0.25, 'd':0.25, 'l':0.25, 'r':0.25},\n",
        "          52:{'u':0.25, 'd':0.25, 'l':0.25, 'r':0.25},\n",
        "          53:{'u':0.25, 'd':0.25, 'l':0.25, 'r':0.25},\n",
        "          54:{'u':0, 'd':0, 'l':0, 'r':0},###دیوار\n",
        "          55:{'u':0.25, 'd':0.25, 'l':0.25, 'r':0.25},\n",
        "\n",
        "\n",
        "          56:{'u':0.25, 'd':0.25, 'l':0.25, 'r':0.25},\n",
        "          57:{'u':0.25, 'd':0.25, 'l':0.25, 'r':0.25},\n",
        "          58:{'u':0.25, 'd':0.25, 'l':0.25, 'r':0.25},\n",
        "          59:{'u':0.25, 'd':0.25, 'l':0.25, 'r':0.25},          \n",
        "          60:{'u':0.25, 'd':0.25, 'l':0.25, 'r':0.25},\n",
        "          61:{'u':0.25, 'd':0.25, 'l':0.25, 'r':0.25},\n",
        "          62:{'u':0, 'd':0, 'l':0, 'r':0},###دیوار\n",
        "          63:{'u':0, 'd':0, 'l':0, 'r':0} #هدف\n",
        "          }"
      ],
      "metadata": {
        "id": "G64VdQXvkv8k"
      },
      "id": "G64VdQXvkv8k",
      "execution_count": 5,
      "outputs": []
    },
    {
      "cell_type": "code",
      "source": [
        "#تعریف پایداش برای هر اقدام با توجه به سوال\n",
        "\n",
        "reward   = {0:{'u':0, 'd':0, 'l':0, 'r':0},\n",
        "            1:{'u':0, 'd':0, 'l':0, 'r':0},\n",
        "            2:{'u':0, 'd':0, 'l':0, 'r':0},\n",
        "            3:{'u':0, 'd':0, 'l':0, 'r':0},\n",
        "            4:{'u':0, 'd':0, 'l':0, 'r':0},\n",
        "            5:{'u':0, 'd':0, 'l':0, 'r':0},\n",
        "            6:{'u':0, 'd':0, 'l':0, 'r':0},\n",
        "            7:{'u':0, 'd':0, 'l':0, 'r':0},\n",
        "\n",
        "\n",
        "            8:{'u':0, 'd':0, 'l':0, 'r':0},\n",
        "            9:{'u':0, 'd':0, 'l':0, 'r':0},\n",
        "            10:{'u':0, 'd':0, 'l':0, 'r':0},\n",
        "            11:{'u':0, 'd':0, 'l':0, 'r':0},\n",
        "            12:{'u':0, 'd':0, 'l':0, 'r':0},#دیوار\n",
        "            13:{'u':0, 'd':0, 'l':0, 'r':0},\n",
        "            14:{'u':0, 'd':0, 'l':0, 'r':0},\n",
        "            15:{'u':0, 'd':0, 'l':0, 'r':0},\n",
        "\n",
        "\n",
        "            16:{'u':0, 'd':0, 'l':0, 'r':0},\n",
        "            17:{'u':0, 'd':0, 'l':0, 'r':0},\n",
        "            18:{'u':0, 'd':0, 'l':0, 'r':0},\n",
        "            19:{'u':0, 'd':0, 'l':0, 'r':0},\n",
        "            20:{'u':0, 'd':0, 'l':0, 'r':0},\n",
        "            21:{'u':0, 'd':0, 'l':0, 'r':0},\n",
        "            22:{'u':0, 'd':0, 'l':0, 'r':0},\n",
        "            23:{'u':0, 'd':0, 'l':0, 'r':0},\n",
        "\n",
        "\n",
        "            24:{'u':0, 'd':0, 'l':0, 'r':0},\n",
        "            25:{'u':0, 'd':0, 'l':0, 'r':0},\n",
        "            26:{'u':0, 'd':0, 'l':0, 'r':0},#دیوار\n",
        "            27:{'u':0, 'd':0, 'l':0, 'r':0},\n",
        "            28:{'u':0, 'd':0, 'l':0, 'r':0},\n",
        "            29:{'u':0, 'd':0, 'l':0, 'r':0},\n",
        "            30:{'u':0, 'd':0, 'l':0, 'r':0},\n",
        "            31:{'u':0, 'd':0, 'l':0, 'r':0},\n",
        "\n",
        "\n",
        "            32:{'u':0, 'd':0, 'l':0, 'r':0},\n",
        "            33:{'u':0, 'd':0, 'l':0, 'r':0},\n",
        "            34:{'u':0, 'd':0, 'l':0, 'r':0},#دیوار\n",
        "            35:{'u':0, 'd':0, 'l':0, 'r':0},\n",
        "            36:{'u':0, 'd':0, 'l':0, 'r':0},\n",
        "            37:{'u':0, 'd':0, 'l':0, 'r':0},\n",
        "            38:{'u':0, 'd':0, 'l':0, 'r':0},\n",
        "            39:{'u':0, 'd':0, 'l':0, 'r':0},\n",
        "\n",
        "\n",
        "            40:{'u':0, 'd':0, 'l':0, 'r':0},\n",
        "            41:{'u':0, 'd':0, 'l':0, 'r':0},\n",
        "            42:{'u':0, 'd':0, 'l':0, 'r':0},#دیوار\n",
        "            43:{'u':0, 'd':0, 'l':0, 'r':0},\n",
        "            44:{'u':0, 'd':0, 'l':0, 'r':0},\n",
        "            45:{'u':0, 'd':0, 'l':0, 'r':0},\n",
        "            46:{'u':0, 'd':0, 'l':0, 'r':0},#دیوار\n",
        "            47:{'u':0, 'd':0, 'l':0, 'r':0},\n",
        "\n",
        "\n",
        "            48:{'u':0, 'd':0, 'l':0, 'r':0},\n",
        "            49:{'u':0, 'd':0, 'l':0, 'r':0},\n",
        "            50:{'u':0, 'd':0, 'l':0, 'r':0},\n",
        "            51:{'u':0, 'd':0, 'l':0, 'r':0},\n",
        "            52:{'u':0, 'd':0, 'l':0, 'r':0},\n",
        "            53:{'u':0, 'd':0, 'l':0, 'r':0},\n",
        "            54:{'u':0, 'd':0, 'l':0, 'r':0},#دیوار\n",
        "            55:{'u':100, 'd':0, 'l':0, 'r':0},\n",
        "\n",
        "\n",
        "            56:{'u':0, 'd':0, 'l':0, 'r':0},\n",
        "            57:{'u':0, 'd':0, 'l':0, 'r':0},\n",
        "            58:{'u':0, 'd':0, 'l':0, 'r':0},\n",
        "            59:{'u':0, 'd':0, 'l':0, 'r':0},\n",
        "            60:{'u':0, 'd':0, 'l':0, 'r':0},\n",
        "            61:{'u':0, 'd':0, 'l':0, 'r':0},\n",
        "            62:{'u':0, 'd':0, 'l':0, 'r':0},#دیوار\n",
        "            63:{'u':0, 'd':0, 'l':0, 'r':0} #هدف\n",
        "}"
      ],
      "metadata": {
        "id": "kQQ9hBosk1TA"
      },
      "id": "kQQ9hBosk1TA",
      "execution_count": 6,
      "outputs": []
    },
    {
      "cell_type": "code",
      "source": [
        "#تعریف دیوار در محیط شبکه ای \n",
        "\n",
        "taboo = [12,26,34,42,46,54,62]"
      ],
      "metadata": {
        "id": "n01K4DTDoxlF"
      },
      "id": "n01K4DTDoxlF",
      "execution_count": 54,
      "outputs": []
    },
    {
      "cell_type": "code",
      "source": [
        "#در این تابع با گرفتن حالت و فعالیت میزان پاداش و حالت بعدی برگردانده میشود\n",
        "\n",
        "def state_values(s, action, neighbors = neighbors, rewards = reward):\n",
        "\n",
        "    s_prime = neighbors[s][action]\n",
        "    reward = rewards[s][action]\n",
        "    return (s_prime,reward)"
      ],
      "metadata": {
        "id": "fKUsSkgipDj-"
      },
      "id": "fKUsSkgipDj-",
      "execution_count": 66,
      "outputs": []
    },
    {
      "cell_type": "code",
      "source": [
        ""
      ],
      "metadata": {
        "id": "lforitWK27Gq"
      },
      "id": "lforitWK27Gq",
      "execution_count": 8,
      "outputs": []
    },
    {
      "cell_type": "code",
      "source": [
        "\n",
        "import copy\n",
        "\n",
        "#تابع انتخاب \n",
        "#در صورتی که حالت هدف نباشد به صورت رندوم یک عمل را انتخاب میکنیم  \n",
        "\n",
        "\n",
        "def select_a_prime(s_prime, policy, action_index, greedy, goal):\n",
        "    \n",
        "    if(s_prime != goal and greedy): \n",
        "        probs = list(policy[s_prime].values())        \n",
        "        a_prime_index = nr.choice(action_index, size = 1, p = probs)[0]\n",
        "        a_prime = list(policy[s_prime].keys())[a_prime_index]\n",
        "    else:\n",
        "        a_prime_index = nr.choice(action_index, size = 1)[0]\n",
        "        a_prime = list(policy[s_prime].keys())[a_prime_index]   \n",
        "    return(a_prime_index, a_prime)"
      ],
      "metadata": {
        "id": "iOYud8NYqFQB"
      },
      "id": "iOYud8NYqFQB",
      "execution_count": 67,
      "outputs": []
    },
    {
      "cell_type": "code",
      "source": [
        "#تعریف تابع مقدار تصادفی اولیه\n",
        "\n",
        "def initialize_values(neighbors):\n",
        "    V =np.zeros([64])\n",
        "    for state in range(64):\n",
        "        V[state] = np.random.normal()\n",
        "    return V"
      ],
      "metadata": {
        "id": "EOhav2h92RYA"
      },
      "id": "EOhav2h92RYA",
      "execution_count": 68,
      "outputs": []
    },
    {
      "cell_type": "markdown",
      "source": [
        "سوال اول"
      ],
      "metadata": {
        "id": "AwaaebkKguPT"
      },
      "id": "AwaaebkKguPT"
    },
    {
      "cell_type": "code",
      "source": [
        "#محاسبه تابع پیشگویی تفاوت زمانی چندگامی\n",
        "\n",
        "def TD_n(policy, episodes, n, goal, alpha, gamma , epsilon ):\n",
        "    \n",
        "    ##  انتخاب لیست حالت و مقادیر عمل را انتخاب میکنیم\n",
        "    states = list(policy.keys())\n",
        "    n_states = len(states)\n",
        "    \n",
        "    ## اقدامات احتمالی و مقادیر عمل را انتخاب میکنیم\n",
        "    action_index = list(range(len(list(policy[0].keys()))))\n",
        "    v = [0]*len(list(policy.keys()))    \n",
        "    current_policy = copy.deepcopy(policy)\n",
        "    s = nr.choice(states, size = 1)[0] ## حال در ابتدا یک حالت اولیه را به صورت تصادفی نمونه میگیریم و بررسی میکنیم که حالت پایانی یا دیوار نباشد\n",
        "    while(s in taboo+[goal]):\n",
        "        s = nr.choice(states, size = 1)[0]  \n",
        "        \n",
        "    for _ in range(episodes): # به ازای هر اپیزود\n",
        "        T = float(\"inf\")\n",
        "        tau = 0\n",
        "        reward_list = []\n",
        "        t = 0\n",
        "        \n",
        "        while(tau != T - 1): # اپیزود به پایان می رسد که به هدف رفته باشیم\n",
        "            if(t < T):\n",
        "                \n",
        "                probs = list(policy[s].values())  ## عمل را با توجه به سیاست خود انتخاب میکنیم\n",
        "                a = list(policy[s].keys())[nr.choice(action_index, size = 1, p = probs)[0]]\n",
        "                s_prime, reward = state_values(s, a)  ## حال حالت بعدی را با توجه به عمل داده شده انتخاب میکنیم\n",
        "                reward_list.append(reward)  # پاداش ها را به لیست اضافه میکنیم\n",
        "                if(s_prime == goal): T = t + 1  # به حالت هدف رسیدیم\n",
        "                \n",
        "            tau = t - n + 1 ## به روز رسانی میکنیم\n",
        "\n",
        "            if(tau >= 0): # اگر زمان کافی برای محاسبه بازگشت داریم بازگشت را محاسبه میکنیم\n",
        "                G = 0.0 \n",
        "                for i in range(tau, min(tau + n - 1, T)):\n",
        "                    G = G + gamma**(i-tau) * reward_list[i]                   \n",
        "                if(tau + n < T): G = G + gamma**n * v[s_prime]  ## در مورد جایی که ما در حالت دیوار یا هدف نیستیم برخورد کنیم                \n",
        "                v[s] = v[s] + alpha * (G - v[s])  ## مقدار تابع مقدار را اپدیت میکنیم\n",
        "            \n",
        "            ## حالت را برای تکرار بعدی تنظیم می کنیم\n",
        "            if(s_prime != goal):\n",
        "                s = s_prime\n",
        "            t = t +1\n",
        "    return(v)"
      ],
      "metadata": {
        "id": "VoDE97LL2SrF"
      },
      "id": "VoDE97LL2SrF",
      "execution_count": 73,
      "outputs": []
    },
    {
      "cell_type": "code",
      "source": [
        ""
      ],
      "metadata": {
        "id": "akZVsPb8kiJ8"
      },
      "id": "akZVsPb8kiJ8",
      "execution_count": 73,
      "outputs": []
    },
    {
      "cell_type": "code",
      "source": [
        "#TD_n(policy, episodes, n, goal, alpha, gamma , epsilon )\n",
        "\n",
        "#فراخونی تابع \n",
        "\n",
        "V_1 = np.round(np.array(TD_n(policy, episodes = 100000, n = 1, goal = 63, alpha = 0.1, gamma = 0.9, epsilon = 1)).reshape((8,8)), 8)"
      ],
      "metadata": {
        "id": "AtnEpg84gx8T"
      },
      "id": "AtnEpg84gx8T",
      "execution_count": 12,
      "outputs": []
    },
    {
      "cell_type": "code",
      "source": [
        ""
      ],
      "metadata": {
        "id": "AupB-yeugx-j"
      },
      "id": "AupB-yeugx-j",
      "execution_count": 72,
      "outputs": []
    },
    {
      "cell_type": "code",
      "source": [
        "import matplotlib.pyplot as plt\n",
        "import pandas as pd\n",
        "import numpy as np\n",
        "import seaborn\n",
        "j=np.round(V_2,3).reshape([8,8])\n",
        "ax = seaborn.heatmap(j, cmap = \"Blues_r\", annot = True, linecolor=\"#282828\", linewidths = 0.1)\n",
        "plt.show()"
      ],
      "metadata": {
        "colab": {
          "base_uri": "https://localhost:8080/",
          "height": 265
        },
        "id": "3ua4xIEsgyBP",
        "outputId": "c29ac275-ca0a-43f3-fc65-b69496c04c7d"
      },
      "id": "3ua4xIEsgyBP",
      "execution_count": 49,
      "outputs": [
        {
          "output_type": "display_data",
          "data": {
            "text/plain": [
              "<Figure size 432x288 with 2 Axes>"
            ],
            "image/png": "[encoded data removed]"
          },
          "metadata": {
            "needs_background": "light"
          }
        }
      ]
    },
    {
      "cell_type": "code",
      "source": [
        "#TD_n(policy, episodes, n, goal, alpha, gamma , epsilon )\n",
        "V_6 = np.round(np.array(TD_n(policy, episodes = 10, n = 6, goal = 63, alpha = 0.1, gamma = 0.9, epsilon = 1)).reshape((8,8)), 8)"
      ],
      "metadata": {
        "id": "Py6SrLFmgyDw"
      },
      "id": "Py6SrLFmgyDw",
      "execution_count": 74,
      "outputs": []
    },
    {
      "cell_type": "code",
      "source": [
        "import matplotlib.pyplot as plt\n",
        "import pandas as pd\n",
        "import numpy as np\n",
        "import seaborn\n",
        "j=np.round(V_6,3).reshape([8,8])\n",
        "ax = seaborn.heatmap(j, cmap = \"Blues_r\", annot = True, linecolor=\"#282828\", linewidths = 0.1)\n",
        "plt.show()"
      ],
      "metadata": {
        "colab": {
          "base_uri": "https://localhost:8080/",
          "height": 267
        },
        "id": "Woy0ahVOgyGo",
        "outputId": "5b47da8e-5c5d-431f-db40-6ea4fc549d35"
      },
      "id": "Woy0ahVOgyGo",
      "execution_count": 75,
      "outputs": [
        {
          "output_type": "display_data",
          "data": {
            "text/plain": [
              "<Figure size 432x288 with 2 Axes>"
            ],
            "image/png": "[encoded data removed]"
          },
          "metadata": {
            "needs_background": "light"
          }
        }
      ]
    },
    {
      "cell_type": "code",
      "source": [
        "#TD_n(policy, episodes, n, goal, alpha, gamma , epsilon )\n",
        "V_05 = np.round(np.array(TD_n(policy, episodes = 10000, n = 2, goal = 63, alpha = 0.5, gamma = 0.9, epsilon = 1)).reshape((8,8)), 8)"
      ],
      "metadata": {
        "id": "NAd4w_-agyIz"
      },
      "id": "NAd4w_-agyIz",
      "execution_count": 53,
      "outputs": []
    },
    {
      "cell_type": "code",
      "source": [
        "import matplotlib.pyplot as plt\n",
        "import pandas as pd\n",
        "import numpy as np\n",
        "import seaborn\n",
        "j=np.round(V_05,3).reshape([8,8])\n",
        "ax = seaborn.heatmap(j, cmap = \"Blues_r\", annot = True, linecolor=\"#282828\", linewidths = 0.1)\n",
        "plt.show()"
      ],
      "metadata": {
        "colab": {
          "base_uri": "https://localhost:8080/",
          "height": 268
        },
        "id": "gFIaetcvgyLr",
        "outputId": "a7f17bb1-312f-4882-d6ba-ddb1245e6ca9"
      },
      "id": "gFIaetcvgyLr",
      "execution_count": 54,
      "outputs": [
        {
          "output_type": "display_data",
          "data": {
            "text/plain": [
              "<Figure size 432x288 with 2 Axes>"
            ],
            "image/png": "[encoded data removed]"
          },
          "metadata": {
            "needs_background": "light"
          }
        }
      ]
    },
    {
      "cell_type": "code",
      "source": [
        "#TD_n(policy, episodes, n, goal, alpha, gamma , epsilon )\n",
        "V_45 = np.round(np.array(TD_n(policy, episodes = 10000, n = 2, goal = 63, alpha = 0.6, gamma = 0.4, epsilon = 1)).reshape((8,8)), 8)"
      ],
      "metadata": {
        "id": "Tezlqup2gyNZ"
      },
      "id": "Tezlqup2gyNZ",
      "execution_count": 72,
      "outputs": []
    },
    {
      "cell_type": "code",
      "source": [
        "import matplotlib.pyplot as plt\n",
        "import pandas as pd\n",
        "import numpy as np\n",
        "import seaborn\n",
        "j=np.round(V_45,3).reshape([8,8])\n",
        "ax = seaborn.heatmap(j, cmap = \"Blues_r\", annot = True, linecolor=\"#282828\", linewidths = 0.1)\n",
        "plt.show()"
      ],
      "metadata": {
        "colab": {
          "base_uri": "https://localhost:8080/",
          "height": 265
        },
        "id": "Z7tiNh-YgyQQ",
        "outputId": "6f6210f6-9454-4f0f-bbd6-4a6cd90b108f"
      },
      "id": "Z7tiNh-YgyQQ",
      "execution_count": 73,
      "outputs": [
        {
          "output_type": "display_data",
          "data": {
            "text/plain": [
              "<Figure size 432x288 with 2 Axes>"
            ],
            "image/png": "[encoded data removed]"
          },
          "metadata": {
            "needs_background": "light"
          }
        }
      ]
    },
    {
      "cell_type": "code",
      "source": [
        "#TD_n(policy, episodes, n, goal, alpha, gamma , epsilon )\n",
        "V_45 = np.round(np.array(TD_n(policy, episodes = 1000, n = 2, goal = 63, alpha = 0.2, gamma = 0.9, epsilon = 1)).reshape((8,8)), 8)\n",
        "\n",
        "import matplotlib.pyplot as plt\n",
        "import pandas as pd\n",
        "import numpy as np\n",
        "import seaborn\n",
        "j=np.round(V_45,3).reshape([8,8])\n",
        "ax = seaborn.heatmap(j, cmap = \"Blues_r\", annot = True, linecolor=\"#282828\", linewidths = 0.1)\n",
        "plt.show()\n",
        "\n",
        "#V_45 = np.round(np.array(TD_n(policy, episodes = 1000, n = 2, goal = 63, alpha = 0.2, gamma = 0.9, epsilon = 1)).reshape((8,8)), 8)"
      ],
      "metadata": {
        "colab": {
          "base_uri": "https://localhost:8080/",
          "height": 265
        },
        "id": "AdvuY7RVLqFO",
        "outputId": "9d4a60f5-2be3-45d3-e63c-734fa43da00d"
      },
      "id": "AdvuY7RVLqFO",
      "execution_count": 52,
      "outputs": [
        {
          "output_type": "display_data",
          "data": {
            "text/plain": [
              "<Figure size 432x288 with 2 Axes>"
            ],
            "image/png": "[encoded data removed]"
          },
          "metadata": {
            "needs_background": "light"
          }
        }
      ]
    },
    {
      "cell_type": "code",
      "source": [
        "#TD_n(policy, episodes, n, goal, alpha, gamma , epsilon )\n",
        "V_45 = np.round(np.array(TD_n(policy, episodes = 1000, n = 2, goal = 63, alpha = 0.4, gamma = 0.9, epsilon = 1)).reshape((8,8)), 8)\n",
        "\n",
        "import matplotlib.pyplot as plt\n",
        "import pandas as pd\n",
        "import numpy as np\n",
        "import seaborn\n",
        "j=np.round(V_45,3).reshape([8,8])\n",
        "ax = seaborn.heatmap(j, cmap = \"Blues_r\", annot = True, linecolor=\"#282828\", linewidths = 0.1)\n",
        "plt.show()\n",
        "\n",
        "#V_45 = np.round(np.array(TD_n(policy, episodes = 1000, n = 2, goal = 63, alpha = 0.4, gamma = 0.9, epsilon = 1)).reshape((8,8)), 8)"
      ],
      "metadata": {
        "colab": {
          "base_uri": "https://localhost:8080/",
          "height": 265
        },
        "id": "S8uvLSmriaQr",
        "outputId": "8fb7a683-bd68-450e-acc1-3e8c34ac546b"
      },
      "id": "S8uvLSmriaQr",
      "execution_count": 46,
      "outputs": [
        {
          "output_type": "display_data",
          "data": {
            "text/plain": [
              "<Figure size 432x288 with 2 Axes>"
            ],
            "image/png": "[encoded data removed]"
          },
          "metadata": {
            "needs_background": "light"
          }
        }
      ]
    },
    {
      "cell_type": "markdown",
      "source": [
        ""
      ],
      "metadata": {
        "id": "xxKh6jT5jybI"
      },
      "id": "xxKh6jT5jybI"
    },
    {
      "cell_type": "markdown",
      "source": [
        ""
      ],
      "metadata": {
        "id": "jkGGeqWLjyYV"
      },
      "id": "jkGGeqWLjyYV"
    },
    {
      "cell_type": "code",
      "source": [
        "#TD_n(policy, episodes, n, goal, alpha, gamma , epsilon )\n",
        "V_45 = np.round(np.array(TD_n(policy, episodes = 1000, n = 2, goal = 63, alpha = 0.6, gamma = 0.9, epsilon = 1)).reshape((8,8)), 8)\n",
        "\n",
        "import matplotlib.pyplot as plt\n",
        "import pandas as pd\n",
        "import numpy as np\n",
        "import seaborn\n",
        "j=np.round(V_45,3).reshape([8,8])\n",
        "ax = seaborn.heatmap(j, cmap = \"Blues_r\", annot = True, linecolor=\"#282828\", linewidths = 0.1)\n",
        "plt.show()\n",
        "\n",
        "#V_45 = np.round(np.array(TD_n(policy, episodes = 1000, n = 2, goal = 63, alpha = 0.6, gamma = 0.9, epsilon = 1)).reshape((8,8)), 8)"
      ],
      "metadata": {
        "colab": {
          "base_uri": "https://localhost:8080/",
          "height": 265
        },
        "id": "LpyqWzW0iaTV",
        "outputId": "e18bc230-778e-4912-bd3f-509efda0824e"
      },
      "id": "LpyqWzW0iaTV",
      "execution_count": 47,
      "outputs": [
        {
          "output_type": "display_data",
          "data": {
            "text/plain": [
              "<Figure size 432x288 with 2 Axes>"
            ],
            "image/png": "[encoded data removed]"
          },
          "metadata": {
            "needs_background": "light"
          }
        }
      ]
    },
    {
      "cell_type": "code",
      "source": [
        "#TD_n(policy, episodes, n, goal, alpha, gamma , epsilon )\n",
        "V_45 = np.round(np.array(TD_n(policy, episodes = 1000, n = 2, goal = 63, alpha = 0.8, gamma = 0.9, epsilon = 1)).reshape((8,8)), 8)\n",
        "\n",
        "import matplotlib.pyplot as plt\n",
        "import pandas as pd\n",
        "import numpy as np\n",
        "import seaborn\n",
        "j=np.round(V_45,3).reshape([8,8])\n",
        "ax = seaborn.heatmap(j, cmap = \"Blues_r\", annot = True, linecolor=\"#282828\", linewidths = 0.1)\n",
        "plt.show()\n",
        "\n",
        "V_45 = np.round(np.array(TD_n(policy, episodes = 1000, n = 2, goal = 63, alpha = 0.8, gamma = 0.9, epsilon = 1)).reshape((8,8)), 8)"
      ],
      "metadata": {
        "colab": {
          "base_uri": "https://localhost:8080/",
          "height": 265
        },
        "id": "9X3JV9KTiaXz",
        "outputId": "13bff67f-0f95-40cc-fa8b-f39585eec9b8"
      },
      "id": "9X3JV9KTiaXz",
      "execution_count": 48,
      "outputs": [
        {
          "output_type": "display_data",
          "data": {
            "text/plain": [
              "<Figure size 432x288 with 2 Axes>"
            ],
            "image/png": "[encoded data removed]"
          },
          "metadata": {
            "needs_background": "light"
          }
        }
      ]
    },
    {
      "cell_type": "code",
      "source": [
        "#TD_n(policy, episodes, n, goal, alpha, gamma , epsilon )\n",
        "V_45 = np.round(np.array(TD_n(policy, episodes = 1000, n = 2, goal = 63, alpha = 1, gamma = 0.9, epsilon = 1)).reshape((8,8)), 8)\n",
        "\n",
        "import matplotlib.pyplot as plt\n",
        "import pandas as pd\n",
        "import numpy as np\n",
        "import seaborn\n",
        "j=np.round(V_45,3).reshape([8,8])\n",
        "ax = seaborn.heatmap(j, cmap = \"Blues_r\", annot = True, linecolor=\"#282828\", linewidths = 0.1)\n",
        "plt.show()\n",
        "\n",
        "#V_45 = np.round(np.array(TD_n(policy, episodes = 1000, n = 2, goal = 63, alpha = 1, gamma = 0.9, epsilon = 1)).reshape((8,8)), 8)"
      ],
      "metadata": {
        "colab": {
          "base_uri": "https://localhost:8080/",
          "height": 269
        },
        "id": "wMoATejTiabS",
        "outputId": "fa6e384e-f946-4e6c-b0b5-2c6639a21582"
      },
      "id": "wMoATejTiabS",
      "execution_count": 49,
      "outputs": [
        {
          "output_type": "display_data",
          "data": {
            "text/plain": [
              "<Figure size 432x288 with 2 Axes>"
            ],
            "image/png": "[encoded data removed]"
          },
          "metadata": {
            "needs_background": "light"
          }
        }
      ]
    },
    {
      "cell_type": "code",
      "source": [
        ""
      ],
      "metadata": {
        "id": "crq0BLoCLqH-"
      },
      "id": "crq0BLoCLqH-",
      "execution_count": null,
      "outputs": []
    },
    {
      "cell_type": "code",
      "source": [
        ""
      ],
      "metadata": {
        "id": "ut6JPyv4LqLU"
      },
      "id": "ut6JPyv4LqLU",
      "execution_count": null,
      "outputs": []
    },
    {
      "cell_type": "code",
      "source": [
        ""
      ],
      "metadata": {
        "id": "Xz-4QGi5LqQJ"
      },
      "id": "Xz-4QGi5LqQJ",
      "execution_count": null,
      "outputs": []
    },
    {
      "cell_type": "markdown",
      "source": [
        "سوال دوم"
      ],
      "metadata": {
        "id": "zZN577M6oWdv"
      },
      "id": "zZN577M6oWdv"
    },
    {
      "cell_type": "code",
      "source": [
        "# الگوريتم سارسای چند گامی\n",
        "\n",
        "def SARSA_n(policy, episodes, n, goal, alpha , gamma , epsilon):\n",
        "    states = list(policy.keys())   ##  انتخاب لیست حالت و مقادیر عمل را انتخاب میکنیم\n",
        "    n_states = len(states)\n",
        "    action_index = list(range(len(list(policy[0].keys()))))      ## اقدامات احتمالی و مقادیر عمل را انتخاب میکنیم\n",
        "    Q = np.zeros((len(action_index),len(states)))\n",
        "    current_policy = copy.deepcopy(policy)\n",
        "    for _ in range(episodes): # برای هر اپیزود یا واقعه\n",
        "        s = nr.choice(states, size = 1)[0] ##یک حالت را به صورت تصادفی انتخاب میکنیم و بررسی میکنیم که حالت پایانی یا دیوار نباشد\n",
        "        while(s in taboo+[goal]):\n",
        "            s = nr.choice(states, size = 1)[0]\n",
        "        a_index, a = select_a_prime(s, current_policy, action_index, True, goal) ##با توجه به سیاست یک عمل را انتخاب میکنیم\n",
        "        t = 0   ## شروع time step\n",
        "        T = float(\"inf\")\n",
        "        tau = 0\n",
        "        reward_list = []\n",
        "        while(tau != T - 1): # تا رسیدن به حالت پایانی ادامه میدهیم \n",
        "            if(t < T):\n",
        "                s_prime, reward = state_values(s, a) ##محاسبه حالت بعدی و پاداش آن با توجه به مقدار عمل\n",
        "                reward_list.append(reward)  # اضافه کردن پاداش به لیست خود\n",
        "                if(s_prime == goal): T = t + 1  # اگر به حالت هدف رسیده باشیم\n",
        "                else:\n",
        "                    a_prime_index, a_prime = select_a_prime(s_prime, current_policy, action_index, True, goal) ##اقدام بعدی را با استفاده از سیاست انتخاب و ذخیره کنید\n",
        "            tau = t - n + 1 ## به روزرسانی time step \n",
        "            if(tau >= 0): # اگر زمان کافی بود مقدار بازگشت را محاسبه میکنیم\n",
        "                G = 0.0 \n",
        "                for i in range(tau, min(tau + n, T)):\n",
        "                    G = G + gamma**(i-tau) * reward_list[i]   \n",
        "                if(tau + n < T): G = G + gamma**n * Q[a_prime_index,s_prime]\n",
        "                Q[a_index,s] = Q[a_index,s] + alpha * (G - Q[a_index,s])  #مقدار qرا اپدیت میکنیم \n",
        "            if(s_prime != goal):   ##اقدام و حالت را برای تکرار بعدی تنظیم کنید\n",
        "                s = s_prime   \n",
        "                a = a_prime \n",
        "                a_index = a_prime_index\n",
        "                \n",
        "            t = t + 1\n",
        "    return(Q)"
      ],
      "metadata": {
        "id": "v6tV55-RpJEL"
      },
      "id": "v6tV55-RpJEL",
      "execution_count": 76,
      "outputs": []
    },
    {
      "cell_type": "code",
      "source": [
        "#def SARSA_n(policy, episodes, n, goal, alpha = 0.2, gamma = 0.9, epsilon = 0.1):"
      ],
      "metadata": {
        "id": "Gwypp_ZnZAau"
      },
      "id": "Gwypp_ZnZAau",
      "execution_count": null,
      "outputs": []
    },
    {
      "cell_type": "code",
      "source": [
        "#policy"
      ],
      "metadata": {
        "id": "Iwa4ku6aY0zY"
      },
      "id": "Iwa4ku6aY0zY",
      "execution_count": null,
      "outputs": []
    },
    {
      "cell_type": "code",
      "source": [
        "Q = SARSA_n(policy, episodes = 100, n = 1, goal = 63, alpha = 0.2, gamma = 0.9 ,epsilon = 0)"
      ],
      "metadata": {
        "id": "Pk6bgQH7ZBPh"
      },
      "id": "Pk6bgQH7ZBPh",
      "execution_count": 77,
      "outputs": []
    },
    {
      "cell_type": "code",
      "source": [
        ""
      ],
      "metadata": {
        "id": "3PyLxgF5P_aN"
      },
      "id": "3PyLxgF5P_aN",
      "execution_count": 77,
      "outputs": []
    },
    {
      "cell_type": "code",
      "source": [
        "\n",
        "f=dict()\n",
        "for s in range (64):\n",
        "  r=dict()\n",
        "  for a in range(4):\n",
        "    r[a]=Q[a][s]\n",
        "  #print(s,\"/\",r)\n",
        "  t= max(r,key=r.get)\n",
        "  f[s]=t\n"
      ],
      "metadata": {
        "id": "T3Ka1JRvAGtm"
      },
      "id": "T3Ka1JRvAGtm",
      "execution_count": 78,
      "outputs": []
    },
    {
      "cell_type": "code",
      "source": [
        "e=np.zeros([64])\n",
        "\n",
        "#taboo = [12,26,34,42,46,54,62]\n",
        "for i in range(64):\n",
        "  if i==12 or i==26 or i==34 or i==42 or i==46 or i==54 or i==62:\n",
        "    e[i]=4\n",
        "  else:\n",
        "    e[i]=f[i]\n",
        "\n",
        "map_act = {0:'v', 1:'^', 2:'<', 3:'>' , 4: '-'}\n",
        "optimal_policy = (np.array([map_act[x] for x in e])).reshape([8,-1])\n",
        "\n",
        "print(\"optimal_policy=\\n\",optimal_policy)\n",
        "\n"
      ],
      "metadata": {
        "colab": {
          "base_uri": "https://localhost:8080/"
        },
        "id": "SWMIZD7TP8lD",
        "outputId": "b19ff233-27fc-4bc3-ab4e-b1e0900f6740"
      },
      "id": "SWMIZD7TP8lD",
      "execution_count": 79,
      "outputs": [
        {
          "output_type": "stream",
          "name": "stdout",
          "text": [
            "optimal_policy=\n",
            " [['>' '>' '>' 'v' '>' 'v' 'v' 'v']\n",
            " ['>' '>' 'v' 'v' '-' 'v' 'v' 'v']\n",
            " ['>' '>' '>' '>' '>' '>' 'v' 'v']\n",
            " ['^' '^' '-' '>' '>' 'v' '>' 'v']\n",
            " ['^' '^' '-' '>' '>' '>' '>' 'v']\n",
            " ['v' 'v' '-' '>' '>' '^' '-' 'v']\n",
            " ['>' '>' '>' '^' '^' '^' '-' 'v']\n",
            " ['>' '>' '>' '^' '^' '^' '-' 'v']]\n"
          ]
        }
      ]
    },
    {
      "cell_type": "code",
      "source": [
        ""
      ],
      "metadata": {
        "id": "TXTgTfSFP8q9"
      },
      "id": "TXTgTfSFP8q9",
      "execution_count": null,
      "outputs": []
    },
    {
      "cell_type": "code",
      "source": [
        ""
      ],
      "metadata": {
        "id": "32Hqa-QgP8tO"
      },
      "id": "32Hqa-QgP8tO",
      "execution_count": null,
      "outputs": []
    },
    {
      "cell_type": "code",
      "source": [
        ""
      ],
      "metadata": {
        "id": "MK_kHZdMP8v6"
      },
      "id": "MK_kHZdMP8v6",
      "execution_count": null,
      "outputs": []
    },
    {
      "cell_type": "code",
      "source": [
        "Q = SARSA_n(policy, episodes = 1000, n = 2, goal = 63, alpha = 0.2, gamma = 0.9 ,epsilon = 0)"
      ],
      "metadata": {
        "id": "oCTBtzXg_KS7"
      },
      "id": "oCTBtzXg_KS7",
      "execution_count": 28,
      "outputs": []
    },
    {
      "cell_type": "code",
      "source": [
        "\n",
        "f=dict()\n",
        "for s in range (64):\n",
        "  r=dict()\n",
        "  for a in range(4):\n",
        "    r[a]=Q[a][s]\n",
        "  #print(s,\"/\",r)\n",
        "  t= max(r,key=r.get)\n",
        "  f[s]=t\n",
        "e=np.zeros([64])\n",
        "\n",
        "#taboo = [12,26,34,42,46,54,62]\n",
        "for i in range(64):\n",
        "  if i==12 or i==26 or i==34 or i==42 or i==46 or i==54 or i==62:\n",
        "    e[i]=4\n",
        "  else:\n",
        "    e[i]=f[i]\n",
        "\n",
        "map_act = {0:'v', 1:'^', 2:'<', 3:'>' , 4: '-'}\n",
        "optimal_policy = (np.array([map_act[x] for x in e])).reshape([8,-1])\n",
        "\n",
        "print(\"optimal_policy=\\n\",optimal_policy)\n",
        "\n"
      ],
      "metadata": {
        "id": "UI0d1MF6AMpk",
        "colab": {
          "base_uri": "https://localhost:8080/"
        },
        "outputId": "19cfa397-281c-46bd-c7aa-80e035650cb9"
      },
      "id": "UI0d1MF6AMpk",
      "execution_count": 29,
      "outputs": [
        {
          "output_type": "stream",
          "name": "stdout",
          "text": [
            "optimal_policy=\n",
            " [['>' '>' '>' '>' '>' 'v' 'v' 'v']\n",
            " ['>' '>' 'v' 'v' '-' '>' 'v' 'v']\n",
            " ['>' '>' '>' '>' '>' 'v' 'v' 'v']\n",
            " ['>' '^' '-' '>' '>' '>' 'v' 'v']\n",
            " ['>' '^' '-' '>' '>' '>' '>' 'v']\n",
            " ['v' 'v' '-' '>' '>' '^' '-' 'v']\n",
            " ['>' '>' '>' '>' '^' '^' '-' 'v']\n",
            " ['>' '>' '>' '>' '>' '^' '-' 'v']]\n"
          ]
        }
      ]
    },
    {
      "cell_type": "code",
      "source": [
        "Q = SARSA_n(policy, episodes = 1000, n = 6, goal = 63, alpha = 0.2, gamma = 0.9 ,epsilon = 0)\n",
        "\n",
        "\n",
        "\n",
        "f=dict()\n",
        "for s in range (64):\n",
        "  r=dict()\n",
        "  for a in range(4):\n",
        "    r[a]=Q[a][s]\n",
        "  #print(s,\"/\",r)\n",
        "  t= max(r,key=r.get)\n",
        "  f[s]=t\n",
        "e=np.zeros([64])\n",
        "\n",
        "#taboo = [12,26,34,42,46,54,62]\n",
        "for i in range(64):\n",
        "  if i==12 or i==26 or i==34 or i==42 or i==46 or i==54 or i==62:\n",
        "    e[i]=4\n",
        "  else:\n",
        "    e[i]=f[i]\n",
        "\n",
        "map_act = {0:'v', 1:'^', 2:'<', 3:'>' , 4: '-'}\n",
        "optimal_policy = (np.array([map_act[x] for x in e])).reshape([8,-1])\n",
        "\n",
        "print(\"optimal_policy=\\n\",optimal_policy)\n",
        "\n"
      ],
      "metadata": {
        "id": "VE96GT4nAPq2",
        "colab": {
          "base_uri": "https://localhost:8080/"
        },
        "outputId": "78ddb7d6-3f0c-4f08-9f69-792005dea1f5"
      },
      "id": "VE96GT4nAPq2",
      "execution_count": 30,
      "outputs": [
        {
          "output_type": "stream",
          "name": "stdout",
          "text": [
            "optimal_policy=\n",
            " [['>' '>' '>' '>' '>' 'v' 'v' 'v']\n",
            " ['>' '>' '>' 'v' '-' '>' 'v' 'v']\n",
            " ['>' '>' '>' '>' '>' '>' 'v' 'v']\n",
            " ['>' '^' '-' '>' '>' '>' '>' 'v']\n",
            " ['>' '^' '-' '>' '>' '>' '>' 'v']\n",
            " ['>' 'v' '-' '>' '^' '^' '-' 'v']\n",
            " ['>' '>' '>' '^' '^' '^' '-' 'v']\n",
            " ['>' '>' '>' '^' '^' '^' '-' 'v']]\n"
          ]
        }
      ]
    },
    {
      "cell_type": "code",
      "source": [
        "Q = SARSA_n(policy, episodes = 1000, n = 10, goal = 63, alpha = 0.2, gamma = 0.9 ,epsilon = 0)\n",
        "\n",
        "\n",
        "\n",
        "f=dict()\n",
        "for s in range (64):\n",
        "  r=dict()\n",
        "  for a in range(4):\n",
        "    r[a]=Q[a][s]\n",
        "  #print(s,\"/\",r)\n",
        "  t= max(r,key=r.get)\n",
        "  f[s]=t\n",
        "e=np.zeros([64])\n",
        "\n",
        "#taboo = [12,26,34,42,46,54,62]\n",
        "for i in range(64):\n",
        "  if i==12 or i==26 or i==34 or i==42 or i==46 or i==54 or i==62:\n",
        "    e[i]=4\n",
        "  else:\n",
        "    e[i]=f[i]\n",
        "\n",
        "map_act = {0:'v', 1:'^', 2:'<', 3:'>' , 4: '-'}\n",
        "optimal_policy = (np.array([map_act[x] for x in e])).reshape([8,-1])\n",
        "\n",
        "print(\"optimal_policy=\\n\",optimal_policy)"
      ],
      "metadata": {
        "id": "sOwAOeRYpXBk",
        "colab": {
          "base_uri": "https://localhost:8080/"
        },
        "outputId": "8e0aabd3-3ec8-4430-f6a0-daa331d5e24f"
      },
      "id": "sOwAOeRYpXBk",
      "execution_count": 31,
      "outputs": [
        {
          "output_type": "stream",
          "name": "stdout",
          "text": [
            "optimal_policy=\n",
            " [['>' '>' '>' 'v' '>' 'v' 'v' 'v']\n",
            " ['>' '>' 'v' 'v' '-' 'v' 'v' 'v']\n",
            " ['>' '>' '>' '>' '>' '>' '>' 'v']\n",
            " ['>' '^' '-' '>' '>' '>' 'v' 'v']\n",
            " ['^' '^' '-' '>' '>' '>' '>' 'v']\n",
            " ['v' 'v' '-' '>' '^' '^' '-' 'v']\n",
            " ['>' '>' '>' '>' '>' '^' '-' 'v']\n",
            " ['>' '>' '^' '^' '^' '^' '-' 'v']]\n"
          ]
        }
      ]
    },
    {
      "cell_type": "code",
      "source": [
        "Q = SARSA_n(policy, episodes = 1000, n = 1, goal = 63, alpha = 0.4, gamma = 0.9 ,epsilon = 0)\n",
        "\n",
        "\n",
        "\n",
        "f=dict()\n",
        "for s in range (64):\n",
        "  r=dict()\n",
        "  for a in range(4):\n",
        "    r[a]=Q[a][s]\n",
        "  #print(s,\"/\",r)\n",
        "  t= max(r,key=r.get)\n",
        "  f[s]=t\n",
        "e=np.zeros([64])\n",
        "\n",
        "#taboo = [12,26,34,42,46,54,62]\n",
        "for i in range(64):\n",
        "  if i==12 or i==26 or i==34 or i==42 or i==46 or i==54 or i==62:\n",
        "    e[i]=4\n",
        "  else:\n",
        "    e[i]=f[i]\n",
        "\n",
        "map_act = {0:'v', 1:'^', 2:'<', 3:'>' , 4: '-'}\n",
        "optimal_policy = (np.array([map_act[x] for x in e])).reshape([8,-1])\n",
        "\n",
        "print(\"optimal_policy=\\n\",optimal_policy)\n",
        "\n"
      ],
      "metadata": {
        "id": "NM-zsfF_6pio",
        "colab": {
          "base_uri": "https://localhost:8080/"
        },
        "outputId": "e74ae6d0-7f94-43a1-8c64-528a39ebb854"
      },
      "id": "NM-zsfF_6pio",
      "execution_count": 32,
      "outputs": [
        {
          "output_type": "stream",
          "name": "stdout",
          "text": [
            "optimal_policy=\n",
            " [['>' '>' '>' '>' '>' 'v' 'v' 'v']\n",
            " ['>' '>' '>' 'v' '-' 'v' 'v' 'v']\n",
            " ['>' '>' '>' '>' '>' '>' '>' 'v']\n",
            " ['<' '^' '-' '>' '>' '>' 'v' 'v']\n",
            " ['^' '^' '-' '>' '>' '>' '>' 'v']\n",
            " ['v' 'v' '-' '>' '>' '^' '-' 'v']\n",
            " ['>' '>' '>' '>' '^' '^' '-' 'v']\n",
            " ['>' '>' '>' '^' '>' '^' '-' 'v']]\n"
          ]
        }
      ]
    },
    {
      "cell_type": "code",
      "source": [
        "Q = SARSA_n(policy, episodes = 1000, n = 1, goal = 63, alpha = 0.9, gamma = 0.9 ,epsilon = 0)\n",
        "\n",
        "\n",
        "\n",
        "f=dict()\n",
        "for s in range (64):\n",
        "  r=dict()\n",
        "  for a in range(4):\n",
        "    r[a]=Q[a][s]\n",
        "  #print(s,\"/\",r)\n",
        "  t= max(r,key=r.get)\n",
        "  f[s]=t\n",
        "e=np.zeros([64])\n",
        "\n",
        "#taboo = [12,26,34,42,46,54,62]\n",
        "for i in range(64):\n",
        "  if i==12 or i==26 or i==34 or i==42 or i==46 or i==54 or i==62:\n",
        "    e[i]=4\n",
        "  else:\n",
        "    e[i]=f[i]\n",
        "\n",
        "map_act = {0:'v', 1:'^', 2:'<', 3:'>' , 4: '-'}\n",
        "optimal_policy = (np.array([map_act[x] for x in e])).reshape([8,-1])\n",
        "\n",
        "print(\"optimal_policy=\\n\",optimal_policy)\n",
        "\n"
      ],
      "metadata": {
        "id": "YJVZihfcpdYr",
        "colab": {
          "base_uri": "https://localhost:8080/"
        },
        "outputId": "343e5d57-5a12-4a29-ec65-2ad330827403"
      },
      "id": "YJVZihfcpdYr",
      "execution_count": 33,
      "outputs": [
        {
          "output_type": "stream",
          "name": "stdout",
          "text": [
            "optimal_policy=\n",
            " [['>' '>' '>' 'v' 'v' '>' 'v' '<']\n",
            " ['<' '>' '>' '>' '-' '<' 'v' '<']\n",
            " ['>' '^' '>' 'v' '^' '<' '<' 'v']\n",
            " ['>' '^' '-' '>' 'v' '<' '>' 'v']\n",
            " ['<' '^' '-' '>' '^' '>' '>' '^']\n",
            " ['<' '<' '-' '>' '>' '^' '-' '>']\n",
            " ['v' 'v' '>' '^' '^' '^' '-' 'v']\n",
            " ['v' '<' '^' 'v' 'v' '>' '-' 'v']]\n"
          ]
        }
      ]
    },
    {
      "cell_type": "code",
      "source": [
        "Q = SARSA_n(policy, episodes = 1000, n =6, goal = 63, alpha = 0.9, gamma = 0.9 ,epsilon = 0)\n",
        "\n",
        "\n",
        "\n",
        "f=dict()\n",
        "for s in range (64):\n",
        "  r=dict()\n",
        "  for a in range(4):\n",
        "    r[a]=Q[a][s]\n",
        "  #print(s,\"/\",r)\n",
        "  t= max(r,key=r.get)\n",
        "  f[s]=t\n",
        "e=np.zeros([64])\n",
        "\n",
        "#taboo = [12,26,34,42,46,54,62]\n",
        "for i in range(64):\n",
        "  if i==12 or i==26 or i==34 or i==42 or i==46 or i==54 or i==62:\n",
        "    e[i]=4\n",
        "  else:\n",
        "    e[i]=f[i]\n",
        "\n",
        "map_act = {0:'v', 1:'^', 2:'<', 3:'>' , 4: '-'}\n",
        "optimal_policy = (np.array([map_act[x] for x in e])).reshape([8,-1])\n",
        "\n",
        "print(\"optimal_policy=\\n\",optimal_policy)\n"
      ],
      "metadata": {
        "id": "F6uWkusoFAO7",
        "colab": {
          "base_uri": "https://localhost:8080/"
        },
        "outputId": "b9cd924f-c175-4b36-c6d9-ea2c970df6e5"
      },
      "id": "F6uWkusoFAO7",
      "execution_count": 37,
      "outputs": [
        {
          "output_type": "stream",
          "name": "stdout",
          "text": [
            "optimal_policy=\n",
            " [['>' '>' '>' 'v' '^' 'v' 'v' '^']\n",
            " ['v' '>' '>' '>' '-' 'v' 'v' 'v']\n",
            " ['>' '>' 'v' '>' 'v' '^' 'v' '<']\n",
            " ['^' '^' '-' '^' '>' '>' 'v' 'v']\n",
            " ['^' '>' '-' '<' 'v' '>' '>' 'v']\n",
            " ['>' 'v' '-' '>' '<' '^' '-' 'v']\n",
            " ['>' '>' '>' '^' '^' '>' '-' 'v']\n",
            " ['v' '^' 'v' 'v' '^' '^' '-' 'v']]\n"
          ]
        }
      ]
    },
    {
      "cell_type": "code",
      "source": [
        ""
      ],
      "metadata": {
        "id": "82pfzMpUFA3b"
      },
      "id": "82pfzMpUFA3b",
      "execution_count": null,
      "outputs": []
    },
    {
      "cell_type": "code",
      "source": [
        "Q = SARSA_n(policy, episodes = 1000, n = 1, goal = 63, alpha = 0.2, gamma = 0.9 ,epsilon = 0)\n",
        "\n",
        "\n",
        "\n",
        "f=dict()\n",
        "for s in range (64):\n",
        "  r=dict()\n",
        "  for a in range(4):\n",
        "    r[a]=Q[a][s]\n",
        "  #print(s,\"/\",r)\n",
        "  t= max(r,key=r.get)\n",
        "  f[s]=t\n",
        "e=np.zeros([64])\n",
        "\n",
        "#taboo = [12,26,34,42,46,54,62]\n",
        "for i in range(64):\n",
        "  if i==12 or i==26 or i==34 or i==42 or i==46 or i==54 or i==62:\n",
        "    e[i]=4\n",
        "  else:\n",
        "    e[i]=f[i]\n",
        "\n",
        "map_act = {0:'v', 1:'^', 2:'<', 3:'>' , 4: '-'}\n",
        "optimal_policy = (np.array([map_act[x] for x in e])).reshape([8,-1])\n",
        "\n",
        "print(\"optimal_policy=\\n\",optimal_policy)\n"
      ],
      "metadata": {
        "colab": {
          "base_uri": "https://localhost:8080/"
        },
        "id": "dNWag8YfFA5e",
        "outputId": "01f6e8bb-cce7-41a5-8c9f-7b30f0df7590"
      },
      "id": "dNWag8YfFA5e",
      "execution_count": 38,
      "outputs": [
        {
          "output_type": "stream",
          "name": "stdout",
          "text": [
            "optimal_policy=\n",
            " [['>' 'v' '>' '>' '>' '>' 'v' 'v']\n",
            " ['>' '>' '>' 'v' '-' '>' 'v' 'v']\n",
            " ['>' '>' '>' 'v' '>' 'v' 'v' 'v']\n",
            " ['^' '^' '-' '>' '>' '>' 'v' 'v']\n",
            " ['^' 'v' '-' '>' '>' '>' '>' 'v']\n",
            " ['>' 'v' '-' '>' '>' '^' '-' 'v']\n",
            " ['>' '>' '>' '^' '^' '^' '-' 'v']\n",
            " ['>' '>' '>' '^' '>' '^' '-' 'v']]\n"
          ]
        }
      ]
    },
    {
      "cell_type": "code",
      "source": [
        "Q = SARSA_n(policy, episodes = 100, n = 1, goal = 63, alpha = 0.2, gamma = 0.9 ,epsilon = 0)\n",
        "\n",
        "\n",
        "\n",
        "f=dict()\n",
        "for s in range (64):\n",
        "  r=dict()\n",
        "  for a in range(4):\n",
        "    r[a]=Q[a][s]\n",
        "  #print(s,\"/\",r)\n",
        "  t= max(r,key=r.get)\n",
        "  f[s]=t\n",
        "e=np.zeros([64])\n",
        "\n",
        "#taboo = [12,26,34,42,46,54,62]\n",
        "for i in range(64):\n",
        "  if i==12 or i==26 or i==34 or i==42 or i==46 or i==54 or i==62:\n",
        "    e[i]=4\n",
        "  else:\n",
        "    e[i]=f[i]\n",
        "\n",
        "map_act = {0:'v', 1:'^', 2:'<', 3:'>' , 4: '-'}\n",
        "optimal_policy = (np.array([map_act[x] for x in e])).reshape([8,-1])\n",
        "\n",
        "print(\"optimal_policy=\\n\",optimal_policy)\n",
        "\n"
      ],
      "metadata": {
        "id": "IneIiTE0FA8T",
        "colab": {
          "base_uri": "https://localhost:8080/"
        },
        "outputId": "503d8dcf-0dcf-49c1-a915-4967a5e7bc1f"
      },
      "id": "IneIiTE0FA8T",
      "execution_count": 39,
      "outputs": [
        {
          "output_type": "stream",
          "name": "stdout",
          "text": [
            "optimal_policy=\n",
            " [['>' '>' '>' '>' '>' '>' 'v' 'v']\n",
            " ['>' '>' '>' 'v' '-' 'v' 'v' 'v']\n",
            " ['>' '>' '>' '>' '>' '>' 'v' 'v']\n",
            " ['^' '^' '-' '>' '>' '>' 'v' 'v']\n",
            " ['>' '^' '-' '>' '>' '>' '>' 'v']\n",
            " ['v' 'v' '-' '>' '^' '^' '-' 'v']\n",
            " ['>' '>' '>' '>' '^' '^' '-' 'v']\n",
            " ['>' '>' '>' '^' '^' '^' '-' 'v']]\n"
          ]
        }
      ]
    },
    {
      "cell_type": "code",
      "source": [
        "Q = SARSA_n(policy, episodes = 10, n = 1, goal = 63, alpha = 0.2, gamma = 0.9 ,epsilon = 0)\n",
        "\n",
        "\n",
        "\n",
        "f=dict()\n",
        "for s in range (64):\n",
        "  r=dict()\n",
        "  for a in range(4):\n",
        "    r[a]=Q[a][s]\n",
        "  #print(s,\"/\",r)\n",
        "  t= max(r,key=r.get)\n",
        "  f[s]=t\n",
        "e=np.zeros([64])\n",
        "\n",
        "#taboo = [12,26,34,42,46,54,62]\n",
        "for i in range(64):\n",
        "  if i==12 or i==26 or i==34 or i==42 or i==46 or i==54 or i==62:\n",
        "    e[i]=4\n",
        "  else:\n",
        "    e[i]=f[i]\n",
        "\n",
        "map_act = {0:'v', 1:'^', 2:'<', 3:'>' , 4: '-'}\n",
        "optimal_policy = (np.array([map_act[x] for x in e])).reshape([8,-1])\n",
        "\n",
        "print(\"optimal_policy=\\n\",optimal_policy)\n",
        "\n"
      ],
      "metadata": {
        "id": "nxj-ZRse4CS3",
        "colab": {
          "base_uri": "https://localhost:8080/"
        },
        "outputId": "5c36c0b0-b867-4b64-ea92-9206fc100c28"
      },
      "id": "nxj-ZRse4CS3",
      "execution_count": 40,
      "outputs": [
        {
          "output_type": "stream",
          "name": "stdout",
          "text": [
            "optimal_policy=\n",
            " [['>' '>' 'v' 'v' '>' 'v' 'v' 'v']\n",
            " ['>' 'v' 'v' 'v' '-' 'v' 'v' 'v']\n",
            " ['>' '>' '>' '>' 'v' '>' '>' 'v']\n",
            " ['>' '^' '-' '>' '>' 'v' 'v' 'v']\n",
            " ['^' '^' '-' '>' '>' '>' '>' 'v']\n",
            " ['^' '^' '-' '>' '>' '^' '-' 'v']\n",
            " ['^' 'v' '>' '^' '^' '^' '-' 'v']\n",
            " ['>' '>' '^' '^' '>' '^' '-' 'v']]\n"
          ]
        }
      ]
    },
    {
      "cell_type": "code",
      "source": [
        "Q = SARSA_n(policy, episodes = 1, n = 1, goal = 63, alpha = 0.2, gamma = 0.9 ,epsilon = 0)\n",
        "\n",
        "\n",
        "\n",
        "f=dict()\n",
        "for s in range (64):\n",
        "  r=dict()\n",
        "  for a in range(4):\n",
        "    r[a]=Q[a][s]\n",
        "  #print(s,\"/\",r)\n",
        "  t= max(r,key=r.get)\n",
        "  f[s]=t\n",
        "e=np.zeros([64])\n",
        "\n",
        "#taboo = [12,26,34,42,46,54,62]\n",
        "for i in range(64):\n",
        "  if i==12 or i==26 or i==34 or i==42 or i==46 or i==54 or i==62:\n",
        "    e[i]=4\n",
        "  else:\n",
        "    e[i]=f[i]\n",
        "\n",
        "map_act = {0:'v', 1:'^', 2:'<', 3:'>' , 4: '-'}\n",
        "optimal_policy = (np.array([map_act[x] for x in e])).reshape([8,-1])\n",
        "\n",
        "print(\"optimal_policy=\\n\",optimal_policy)\n",
        "\n"
      ],
      "metadata": {
        "id": "NWJbVVgo8kfi",
        "colab": {
          "base_uri": "https://localhost:8080/"
        },
        "outputId": "2b39f0d7-d55b-4110-ed27-f3a97ad9143c"
      },
      "id": "NWJbVVgo8kfi",
      "execution_count": 41,
      "outputs": [
        {
          "output_type": "stream",
          "name": "stdout",
          "text": [
            "optimal_policy=\n",
            " [['v' 'v' 'v' 'v' 'v' 'v' 'v' 'v']\n",
            " ['v' 'v' 'v' 'v' '-' 'v' 'v' 'v']\n",
            " ['v' 'v' 'v' 'v' 'v' 'v' 'v' 'v']\n",
            " ['v' 'v' '-' 'v' 'v' 'v' 'v' 'v']\n",
            " ['v' 'v' '-' 'v' 'v' 'v' 'v' 'v']\n",
            " ['v' 'v' '-' 'v' 'v' 'v' '-' 'v']\n",
            " ['v' 'v' 'v' 'v' 'v' 'v' '-' 'v']\n",
            " ['v' 'v' 'v' 'v' 'v' 'v' '-' 'v']]\n"
          ]
        }
      ]
    },
    {
      "cell_type": "code",
      "source": [
        ""
      ],
      "metadata": {
        "id": "2Pa0iJNWmUl4"
      },
      "id": "2Pa0iJNWmUl4",
      "execution_count": null,
      "outputs": []
    },
    {
      "cell_type": "code",
      "source": [
        ""
      ],
      "metadata": {
        "id": "X2KuujXTmWLX"
      },
      "id": "X2KuujXTmWLX",
      "execution_count": null,
      "outputs": []
    },
    {
      "cell_type": "code",
      "source": [
        ""
      ],
      "metadata": {
        "id": "xI6Z5nEQOEP6"
      },
      "id": "xI6Z5nEQOEP6",
      "execution_count": 37,
      "outputs": []
    },
    {
      "cell_type": "code",
      "source": [
        ""
      ],
      "metadata": {
        "id": "XF7RWF0hOdAw"
      },
      "id": "XF7RWF0hOdAw",
      "execution_count": 37,
      "outputs": []
    },
    {
      "cell_type": "code",
      "source": [
        ""
      ],
      "metadata": {
        "id": "ZA_kD1K-_VOZ"
      },
      "id": "ZA_kD1K-_VOZ",
      "execution_count": null,
      "outputs": []
    },
    {
      "cell_type": "code",
      "source": [
        ""
      ],
      "metadata": {
        "id": "io6vbLpbOW8z"
      },
      "id": "io6vbLpbOW8z",
      "execution_count": null,
      "outputs": []
    }
  ],
  "metadata": {
    "kernelspec": {
      "display_name": "Python 3 (ipykernel)",
      "language": "python",
      "name": "python3"
    },
    "language_info": {
      "codemirror_mode": {
        "name": "ipython",
        "version": 3
      },
      "file_extension": ".py",
      "mimetype": "text/x-python",
      "name": "python",
      "nbconvert_exporter": "python",
      "pygments_lexer": "ipython3",
      "version": "3.7.4"
    },
    "colab": {
      "name": "HW02-40001565.ipynb",
      "provenance": []
    }
  },
  "nbformat": 4,
  "nbformat_minor": 5
}