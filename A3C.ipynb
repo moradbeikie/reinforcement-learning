{
  "cells": [
    {
      "cell_type": "code",
      "source": [
        "import multiprocessing\n",
        "import threading                    # رویکردی شی گرا برای ایجاد نخ\n",
        "import tensorflow as tf             #جهت ساخت شبکه های عصبی\n",
        "import numpy as np\n",
        "import gym\n",
        "import os\n",
        "import shutil\n",
        "import matplotlib.pyplot as plt      # جهت ترسیم نمودار\n",
        "import tensorflow.compat.v1 as tf\n",
        "tf.disable_v2_behavior()"
      ],
      "metadata": {
        "id": "ecggQd-8XTsk",
        "colab": {
          "base_uri": "https://localhost:8080/"
        },
        "outputId": "51e79239-a83c-46e4-baa0-3afc2851ef15"
      },
      "id": "ecggQd-8XTsk",
      "execution_count": null,
      "outputs": [
        {
          "output_type": "stream",
          "name": "stdout",
          "text": [
            "WARNING:tensorflow:From /usr/local/lib/python3.7/dist-packages/tensorflow/python/compat/v2_compat.py:107: disable_resource_variables (from tensorflow.python.ops.variable_scope) is deprecated and will be removed in a future version.\n",
            "Instructions for updating:\n",
            "non-resource variables are not supported in the long term\n"
          ]
        }
      ]
    },
    {
      "cell_type": "code",
      "source": [
        ""
      ],
      "metadata": {
        "id": "9UafVo3VU1av"
      },
      "id": "9UafVo3VU1av",
      "execution_count": null,
      "outputs": []
    },
    {
      "cell_type": "code",
      "source": [
        "OUTPUT_GRAPH = True\n",
        "LOG_DIR = './log'\n",
        "N_WORKERS = multiprocessing.cpu_count()   # workerتعداد عامل های \n",
        "MAX_EP_STEP = 200                         #حداکثر تعداد گام در هر قسمت \n",
        "MAX_GLOBAL_EP = 200                      #تعداد کل قسمتها \n",
        "GLOBAL_NET_SCOPE = 'Global_Net'\n",
        "UPDATE_GLOBAL_ITER = 10                   #تعیین تعداد دفعات بروزرسانی شبکه جهانی  \n",
        "GAMMA = 0.9                               # ضریب تخفیف\n",
        "ENTROPY_BETA = 0.01                       # ضریب انتروپی\n",
        "LR_A = 0.0001                             # نرخ یادگیری بازیگر \n",
        "LR_C = 0.001                              # نرخ یادگیری نقاد\n",
        "GLOBAL_EP = 0\n",
        "GLOBAL_RUNNING_R = []\n",
        "\n",
        "# boolean for rendering the environment\n",
        "render=False \n",
        "# directory for storing logs\n",
        "log_dir = 'logs'"
      ],
      "metadata": {
        "id": "87FadyCRXUCL"
      },
      "id": "87FadyCRXUCL",
      "execution_count": null,
      "outputs": []
    },
    {
      "cell_type": "code",
      "source": [
        "GAME = 'MountainCarContinuous-v0'\n",
        "env = gym.make(GAME)\n",
        "N_S = env.observation_space.shape[0]                      # تعداد حالات \n",
        "N_A = env.action_space.shape[0]                           # تعداد اعمال\n",
        "A_BOUND = [env.action_space.low, env.action_space.high]   # محدوده اعمال"
      ],
      "metadata": {
        "id": "8aoYenJyXUF9"
      },
      "id": "8aoYenJyXUF9",
      "execution_count": null,
      "outputs": []
    },
    {
      "cell_type": "code",
      "source": [
        "class ACNet(object):\n",
        "  def __init__(self, scope, globalAC=None):\n",
        "    if scope == GLOBAL_NET_SCOPE:\n",
        "      with tf.variable_scope(scope):\n",
        "        self.s = tf.placeholder(tf.float32, [None, N_S], 'S')\n",
        "        self.a_params, self.c_params = self._build_net(scope)[-2:]\n",
        "    else:\n",
        "      with tf.variable_scope(scope):\n",
        "        self.s = tf.placeholder(tf.float32, [None, N_S], 'S')\n",
        "        self.a_his = tf.placeholder(tf.float32, [None, N_A], 'A')\n",
        "        self.v_target = tf.placeholder(tf.float32, [None, 1], 'Vtarget')\n",
        "        mu, sigma, self.v, self.a_params, self.c_params = self._build_net(scope)\n",
        "        td = tf.subtract(self.v_target, self.v, name='TD_error')\n",
        "        with tf.name_scope('c_loss'):\n",
        "          self.c_loss = tf.reduce_mean(tf.square(td))\n",
        "        with tf.name_scope('wrap_a_out'):\n",
        "          mu, sigma = mu * A_BOUND[1], sigma + 1e-4\n",
        "        normal_dist = tf.distributions.Normal(mu, sigma)\n",
        "        with tf.name_scope('a_loss'):\n",
        "          log_prob = normal_dist.log_prob(self.a_his)\n",
        "          exp_v = log_prob * tf.stop_gradient(td)\n",
        "          entropy = normal_dist.entropy()\n",
        "          self.exp_v = ENTROPY_BETA * entropy + exp_v\n",
        "          self.a_loss = tf.reduce_mean(-self.exp_v)\n",
        "        with tf.name_scope('choose_a'):\n",
        "          self.A = tf.clip_by_value(tf.squeeze(normal_dist.sample(1), axis=[0, 1]), A_BOUND[0], A_BOUND[1])\n",
        "        with tf.name_scope('local_grad'):\n",
        "          self.a_grads = tf.gradients(self.a_loss, self.a_params)\n",
        "          self.c_grads = tf.gradients(self.c_loss, self.c_params)\n",
        "      with tf.name_scope('sync'):\n",
        "        with tf.name_scope('pull'):\n",
        "          self.pull_a_params_op = [l_p.assign(g_p) for l_p, g_p in zip(self.a_params, globalAC.a_params)]\n",
        "          self.pull_c_params_op = [l_p.assign(g_p) for l_p, g_p in zip(self.c_params, globalAC.c_params)]\n",
        "        with tf.name_scope('push'):\n",
        "          self.update_a_op = OPT_A.apply_gradients(zip(self.a_grads, globalAC.a_params))\n",
        "          self.update_c_op = OPT_C.apply_gradients(zip(self.c_grads, globalAC.c_params))\n",
        "  def _build_net(self, scope):\n",
        "    w_init = tf.random_normal_initializer(0., .1)\n",
        "    with tf.variable_scope('actor'):\n",
        "      l_a = tf.layers.dense(self.s, 200, tf.nn.relu6, kernel_initializer=w_init, name='la')\n",
        "      mu = tf.layers.dense(l_a, N_A, tf.nn.tanh, kernel_initializer=w_init, name='mu')\n",
        "      sigma = tf.layers.dense(l_a, N_A, tf.nn.softplus, kernel_initializer=w_init, name='sigma')\n",
        "    with tf.variable_scope('critic'):\n",
        "      l_c = tf.layers.dense(self.s, 100, tf.nn.relu6, kernel_initializer=w_init, name='lc')\n",
        "      v = tf.layers.dense(l_c, 1, kernel_initializer=w_init, name='v')\n",
        "    a_params = tf.get_collection(tf.GraphKeys.TRAINABLE_VARIABLES, scope=scope + '/actor')\n",
        "    c_params = tf.get_collection(tf.GraphKeys.TRAINABLE_VARIABLES, scope=scope + '/critic')\n",
        "    return mu, sigma, v, a_params, c_params\n",
        "  def update_global(self, feed_dict):\n",
        "    SESS.run([self.update_a_op, self.update_c_op], feed_dict)\n",
        "  def pull_global(self): \n",
        "    SESS.run([self.pull_a_params_op, self.pull_c_params_op])\n",
        "  def choose_action(self, s):\n",
        "    s = s[np.newaxis, :]\n",
        "    return SESS.run(self.A, {self.s: s})"
      ],
      "metadata": {
        "id": "GlAJBNZ5XUJM"
      },
      "id": "GlAJBNZ5XUJM",
      "execution_count": null,
      "outputs": []
    },
    {
      "cell_type": "code",
      "source": [
        "class Worker(object):\n",
        "  def __init__(self, name, globalAC):\n",
        "    self.env = gym.make(GAME).unwrapped\n",
        "    self.name = name\n",
        "    self.AC = ACNet(name, globalAC)\n",
        "  def work(self):\n",
        "    global GLOBAL_RUNNING_R, GLOBAL_EP\n",
        "    total_step = 1\n",
        "    buffer_s, buffer_a, buffer_r = [], [], []\n",
        "    while not COORD.should_stop() and GLOBAL_EP < MAX_GLOBAL_EP:\n",
        "      s = self.env.reset()\n",
        "      ep_r = 0\n",
        "      for ep_t in range(MAX_EP_STEP):\n",
        "        a = self.AC.choose_action(s)\n",
        "        s_, r, done, info = self.env.step(a)\n",
        "        done = True if ep_t == MAX_EP_STEP - 1 else False\n",
        "        ep_r += r\n",
        "        buffer_s.append(s)\n",
        "        buffer_a.append(a)\n",
        "        buffer_r.append((r+8)/8)\n",
        "        if total_step % UPDATE_GLOBAL_ITER == 0 or done:\n",
        "          if done:\n",
        "            v_s_ = 0\n",
        "          else:\n",
        "            v_s_ = SESS.run(self.AC.v, {self.AC.s: s_[np.newaxis, :]})[0, 0]\n",
        "          buffer_v_target = []\n",
        "          for r in buffer_r[::-1]:\n",
        "            v_s_ = r + GAMMA * v_s_\n",
        "            buffer_v_target.append(v_s_)\n",
        "          buffer_v_target.reverse()\n",
        "          buffer_s, buffer_a, buffer_v_target = np.vstack(buffer_s), np.vstack(buffer_a), np.vstack(buffer_v_target)\n",
        "          feed_dict = {\n",
        "              self.AC.s: buffer_s,\n",
        "              self.AC.a_his: buffer_a,\n",
        "              self.AC.v_target: buffer_v_target,\n",
        "              }\n",
        "          self.AC.update_global(feed_dict)\n",
        "          buffer_s, buffer_a, buffer_r = [], [], []\n",
        "          self.AC.pull_global()\n",
        "        s = s_\n",
        "        total_step += 1\n",
        "        if done:\n",
        "          if len(GLOBAL_RUNNING_R) == 0:\n",
        "            GLOBAL_RUNNING_R.append(ep_r)\n",
        "          else:\n",
        "            GLOBAL_RUNNING_R.append(0.9 * GLOBAL_RUNNING_R[-1] + 0.1 * ep_r)\n",
        "          print(\n",
        "              self.name,\n",
        "              \"Ep:\", GLOBAL_EP,\n",
        "              \"| Ep_r: %i\" % GLOBAL_RUNNING_R[-1],\n",
        "                )\n",
        "          GLOBAL_EP += 1\n",
        "          break"
      ],
      "metadata": {
        "id": "1LyyedA8XUMW"
      },
      "id": "1LyyedA8XUMW",
      "execution_count": null,
      "outputs": []
    },
    {
      "cell_type": "code",
      "source": [
        "if __name__ == \"__main__\":\n",
        "  SESS = tf.Session()\n",
        "  with tf.device(\"/cpu:0\"):\n",
        "    OPT_A = tf.train.RMSPropOptimizer(LR_A, name='RMSPropA')\n",
        "    OPT_C = tf.train.RMSPropOptimizer(LR_C, name='RMSPropC')\n",
        "    GLOBAL_AC = ACNet(GLOBAL_NET_SCOPE)\n",
        "    workers = []\n",
        "    for i in range(N_WORKERS):\n",
        "      i_name = 'W_%i' % i\n",
        "      workers.append(Worker(i_name, GLOBAL_AC))\n",
        "  COORD = tf.train.Coordinator()\n",
        "  SESS.run(tf.global_variables_initializer())\n",
        "  if OUTPUT_GRAPH:\n",
        "    if os.path.exists(LOG_DIR):\n",
        "      shutil.rmtree(LOG_DIR)\n",
        "    tf.summary.FileWriter(LOG_DIR, SESS.graph)\n",
        "  worker_threads = []\n",
        "  for worker in workers:\n",
        "    job = lambda: worker.work()\n",
        "    t = threading.Thread(target=job)\n",
        "    t.start()\n",
        "    worker_threads.append(t)\n",
        "  COORD.join(worker_threads)\n",
        "  plt.plot(np.arange(len(GLOBAL_RUNNING_R)), GLOBAL_RUNNING_R)\n",
        "  plt.xlabel('step')\n",
        "  plt.ylabel('Total moving reward')\n",
        "  plt.show()"
      ],
      "metadata": {
        "id": "twq4pdgjXUOz",
        "colab": {
          "base_uri": "https://localhost:8080/",
          "height": 1000
        },
        "outputId": "6fda05fa-8a37-4900-832f-ecf3c34f0fc7"
      },
      "id": "twq4pdgjXUOz",
      "execution_count": null,
      "outputs": [
        {
          "output_type": "stream",
          "name": "stderr",
          "text": [
            "/usr/local/lib/python3.7/dist-packages/ipykernel_launcher.py:40: UserWarning: `tf.layers.dense` is deprecated and will be removed in a future version. Please use `tf.keras.layers.Dense` instead.\n",
            "/usr/local/lib/python3.7/dist-packages/keras/legacy_tf_layers/core.py:261: UserWarning: `layer.apply` is deprecated and will be removed in a future version. Please use `layer.__call__` method instead.\n",
            "  return layer.apply(inputs)\n",
            "/usr/local/lib/python3.7/dist-packages/ipykernel_launcher.py:41: UserWarning: `tf.layers.dense` is deprecated and will be removed in a future version. Please use `tf.keras.layers.Dense` instead.\n",
            "/usr/local/lib/python3.7/dist-packages/ipykernel_launcher.py:42: UserWarning: `tf.layers.dense` is deprecated and will be removed in a future version. Please use `tf.keras.layers.Dense` instead.\n",
            "/usr/local/lib/python3.7/dist-packages/ipykernel_launcher.py:44: UserWarning: `tf.layers.dense` is deprecated and will be removed in a future version. Please use `tf.keras.layers.Dense` instead.\n",
            "/usr/local/lib/python3.7/dist-packages/ipykernel_launcher.py:45: UserWarning: `tf.layers.dense` is deprecated and will be removed in a future version. Please use `tf.keras.layers.Dense` instead.\n"
          ]
        },
        {
          "output_type": "stream",
          "name": "stdout",
          "text": [
            "WARNING:tensorflow:From <ipython-input-4-1f1210e77364>:18: Normal.__init__ (from tensorflow.python.ops.distributions.normal) is deprecated and will be removed after 2019-01-01.\n",
            "Instructions for updating:\n",
            "The TensorFlow Distributions library has moved to TensorFlow Probability (https://github.com/tensorflow/probability). You should update all references to use `tfp.distributions` instead of `tf.distributions`.\n",
            "WARNING:tensorflow:From /usr/local/lib/python3.7/dist-packages/tensorflow/python/ops/distributions/normal.py:156: Distribution.__init__ (from tensorflow.python.ops.distributions.distribution) is deprecated and will be removed after 2019-01-01.\n",
            "Instructions for updating:\n",
            "The TensorFlow Distributions library has moved to TensorFlow Probability (https://github.com/tensorflow/probability). You should update all references to use `tfp.distributions` instead of `tf.distributions`.\n",
            "WARNING:tensorflow:From /usr/local/lib/python3.7/dist-packages/tensorflow/python/training/rmsprop.py:188: calling Ones.__init__ (from tensorflow.python.ops.init_ops) with dtype is deprecated and will be removed in a future version.\n",
            "Instructions for updating:\n",
            "Call initializer instance with the dtype argument instead of passing it to the constructor\n",
            "W_0 Ep: 0 | Ep_r: -9\n",
            "W_1 Ep: 1 | Ep_r: -9\n",
            "W_0 Ep: 2 | Ep_r: -8\n",
            "W_1 Ep: 3 | Ep_r: -8\n",
            "W_0 Ep: 4 | Ep_r: -8\n",
            "W_1 Ep: 5 | Ep_r: -8\n",
            "W_0 Ep: 6 | Ep_r: -8\n",
            "W_1 Ep: 7 | Ep_r: -8\n",
            "W_0 Ep: 8 | Ep_r: -8\n",
            "W_1 Ep: 9 | Ep_r: -7\n",
            "W_0 Ep: 10 | Ep_r: -7\n",
            "W_1 Ep: 11 | Ep_r: -7\n",
            "W_0 Ep: 12 | Ep_r: -7\n",
            "W_1 Ep: 13 | Ep_r: -7\n",
            "W_0 Ep: 14 | Ep_r: -7\n",
            "W_1 Ep: 15 | Ep_r: -7\n",
            "W_0 Ep: 16 | Ep_r: -7\n",
            "W_1 Ep: 17 | Ep_r: -7\n",
            "W_1 Ep: 18 | Ep_r: -7\n",
            "W_0 Ep: 19 | Ep_r: -7\n",
            "W_1 Ep: 20 | Ep_r: -7\n",
            "W_0 Ep: 21 | Ep_r: -7\n",
            "W_1 Ep: 22 | Ep_r: -7\n",
            "W_0 Ep: 23 | Ep_r: -7\n",
            "W_1 Ep: 24 | Ep_r: -6\n",
            "W_0 Ep: 25 | Ep_r: -6\n",
            "W_1 Ep: 26 | Ep_r: -6\n",
            "W_0 Ep: 27 | Ep_r: -6\n",
            "W_1 Ep: 28 | Ep_r: -6\n",
            "W_0 Ep: 29 | Ep_r: -6\n",
            "W_1 Ep: 30 | Ep_r: -6\n",
            "W_0 Ep: 31 | Ep_r: -6\n",
            "W_1 Ep: 32 | Ep_r: -6\n",
            "W_0 Ep: 33 | Ep_r: -6\n",
            "W_1 Ep: 34 | Ep_r: -6\n",
            "W_0 Ep: 35 | Ep_r: -6\n",
            "W_1 Ep: 36 | Ep_r: -6\n",
            "W_0 Ep: 37 | Ep_r: -6\n",
            "W_1 Ep: 38 | Ep_r: -6\n",
            "W_0 Ep: 39 | Ep_r: -5\n",
            "W_1 Ep: 40 | Ep_r: -5\n",
            "W_0 Ep: 41 | Ep_r: -5\n",
            "W_1 Ep: 42 | Ep_r: -5\n",
            "W_0 Ep: 43 | Ep_r: -5\n",
            "W_1 Ep: 44 | Ep_r: -5\n",
            "W_0 Ep: 45 | Ep_r: -5\n",
            "W_1 Ep: 46 | Ep_r: -5\n",
            "W_0 Ep: 47 | Ep_r: -5\n",
            "W_1 Ep: 48 | Ep_r: -5\n",
            "W_0 Ep: 49 | Ep_r: -5\n",
            "W_1 Ep: 50 | Ep_r: -5\n",
            "W_0 Ep: 51 | Ep_r: -5\n",
            "W_1 Ep: 52 | Ep_r: -5\n",
            "W_0 Ep: 53 | Ep_r: -5\n",
            "W_1 Ep: 54 | Ep_r: -5\n",
            "W_0 Ep: 55 | Ep_r: -5\n",
            "W_1 Ep: 56 | Ep_r: -5\n",
            "W_0 Ep: 57 | Ep_r: -5\n",
            "W_1 Ep: 58 | Ep_r: -5\n",
            "W_0 Ep: 59 | Ep_r: -5\n",
            "W_1 Ep: 60 | Ep_r: -5\n",
            "W_0 Ep: 61 | Ep_r: -5\n",
            "W_1 Ep: 62 | Ep_r: -5\n",
            "W_0 Ep: 63 | Ep_r: -5\n",
            "W_1 Ep: 64 | Ep_r: -5\n",
            "W_0 Ep: 65 | Ep_r: -5\n",
            "W_1 Ep: 66 | Ep_r: -5\n",
            "W_0 Ep: 67 | Ep_r: -5\n",
            "W_1 Ep: 68 | Ep_r: -5\n",
            "W_0 Ep: 69 | Ep_r: -5\n",
            "W_1 Ep: 70 | Ep_r: -5\n",
            "W_0 Ep: 71 | Ep_r: -5\n",
            "W_1 Ep: 72 | Ep_r: -6\n",
            "W_0 Ep: 73 | Ep_r: -5\n",
            "W_1 Ep: 74 | Ep_r: -6\n",
            "W_0 Ep: 75 | Ep_r: -6\n",
            "W_1 Ep: 76 | Ep_r: -5\n",
            "W_0 Ep: 77 | Ep_r: -5\n",
            "W_1 Ep: 78 | Ep_r: -5\n",
            "W_0 Ep: 79 | Ep_r: -5\n",
            "W_1 Ep: 80 | Ep_r: -6\n",
            "W_0 Ep: 81 | Ep_r: -5\n",
            "W_1 Ep: 82 | Ep_r: -5\n",
            "W_0 Ep: 83 | Ep_r: -5\n",
            "W_1 Ep: 84 | Ep_r: -5\n",
            "W_0 Ep: 85 | Ep_r: -5\n",
            "W_1 Ep: 86 | Ep_r: -5\n",
            "W_0 Ep: 87 | Ep_r: -5\n",
            "W_1 Ep: 88 | Ep_r: -5\n",
            "W_0 Ep: 89 | Ep_r: -5\n",
            "W_1 Ep: 90 | Ep_r: -5\n",
            "W_0 Ep: 91 | Ep_r: -5\n",
            "W_1 Ep: 92 | Ep_r: -5\n",
            "W_0 Ep: 93 | Ep_r: -5\n",
            "W_1 Ep: 94 | Ep_r: -5\n",
            "W_0 Ep: 95 | Ep_r: -5\n",
            "W_1 Ep: 96 | Ep_r: -5\n",
            "W_0 Ep: 97 | Ep_r: -5\n",
            "W_1 Ep: 98 | Ep_r: -5\n",
            "W_0 Ep: 99 | Ep_r: -5\n",
            "W_1 Ep: 100 | Ep_r: -5\n",
            "W_0 Ep: 101 | Ep_r: -5\n",
            "W_1 Ep: 102 | Ep_r: -5\n",
            "W_0 Ep: 103 | Ep_r: -5\n",
            "W_1 Ep: 104 | Ep_r: -5\n",
            "W_0 Ep: 105 | Ep_r: -5\n",
            "W_1 Ep: 106 | Ep_r: -5\n",
            "W_0 Ep: 107 | Ep_r: -5\n",
            "W_1 Ep: 108 | Ep_r: -5\n",
            "W_0 Ep: 109 | Ep_r: -5\n",
            "W_1 Ep: 110 | Ep_r: -5\n",
            "W_0 Ep: 111 | Ep_r: -5\n",
            "W_1 Ep: 112 | Ep_r: -5\n",
            "W_0 Ep: 113 | Ep_r: -5\n",
            "W_1 Ep: 114 | Ep_r: -5\n",
            "W_0 Ep: 115 | Ep_r: -5\n",
            "W_1 Ep: 116 | Ep_r: -5\n",
            "W_0 Ep: 117 | Ep_r: -5\n",
            "W_1 Ep: 118 | Ep_r: -5\n",
            "W_0 Ep: 119 | Ep_r: -5\n",
            "W_1 Ep: 120 | Ep_r: -5\n",
            "W_0 Ep: 121 | Ep_r: -5\n",
            "W_1 Ep: 122 | Ep_r: -5\n",
            "W_0 Ep: 123 | Ep_r: -5\n",
            "W_1 Ep: 124 | Ep_r: -5\n",
            "W_0 Ep: 125 | Ep_r: -5\n",
            "W_1 Ep: 126 | Ep_r: -5\n",
            "W_0 Ep: 127 | Ep_r: -5\n",
            "W_1 Ep: 128 | Ep_r: -5\n",
            "W_0 Ep: 129 | Ep_r: -5\n",
            "W_1 Ep: 130 | Ep_r: -5\n",
            "W_0 Ep: 131 | Ep_r: -6\n",
            "W_1 Ep: 132 | Ep_r: -6\n",
            "W_0 Ep: 133 | Ep_r: -6\n",
            "W_0 Ep: 134 | Ep_r: -5\n",
            "W_1 Ep: 135 | Ep_r: -6\n",
            "W_1 W_0 Ep:Ep: 136 | Ep_r: -6\n",
            " 136 | Ep_r: -6\n",
            "W_0 Ep: 138 | Ep_r: -6\n",
            "W_1 Ep: 139 | Ep_r: -6\n",
            "W_0 Ep: 140 | Ep_r: -6\n",
            "W_1 Ep: 141 | Ep_r: -6\n",
            "W_0 Ep: 142 | Ep_r: -6\n",
            "W_1 Ep: 143 | Ep_r: -6\n",
            "W_0 Ep: 144 | Ep_r: -6\n",
            "W_1 Ep: 145 | Ep_r: -6\n",
            "W_0 Ep: 146 | Ep_r: -6\n",
            "W_1 Ep: 147 | Ep_r: -6\n",
            "W_1 Ep: 148 | Ep_r: -6\n",
            "W_0 Ep: 149 | Ep_r: -6\n",
            "W_1 Ep: 150 | Ep_r: -6\n",
            "W_0 Ep: 151 | Ep_r: -6\n",
            "W_1 Ep: 152 | Ep_r: -6\n",
            "W_0 Ep: 153 | Ep_r: -6\n",
            "W_1 Ep: 154 | Ep_r: -6\n",
            "W_0 Ep: 155 | Ep_r: -6\n",
            "W_1 Ep: 156 | Ep_r: -6\n",
            "W_0 Ep: 157 | Ep_r: -6\n",
            "W_1 Ep: 158 | Ep_r: -6\n",
            "W_0 Ep: 159 | Ep_r: -6\n",
            "W_1 Ep: 160 | Ep_r: -6\n",
            "W_0 Ep: 161 | Ep_r: -6\n",
            "W_1 Ep: 162 | Ep_r: -6\n",
            "W_0 Ep: 163 | Ep_r: -6\n",
            "W_1 Ep: 164 | Ep_r: -6\n",
            "W_0 Ep: 165 | Ep_r: -6\n",
            "W_1 Ep: 166 | Ep_r: -6\n",
            "W_0 Ep: 167 | Ep_r: -6\n",
            "W_1 Ep: 168 | Ep_r: -6\n",
            "W_0 Ep: 169 | Ep_r: -6\n",
            "W_1 Ep: 170 | Ep_r: -6\n",
            "W_0 Ep: 171 | Ep_r: -6\n",
            "W_1 Ep: 172 | Ep_r: -6\n",
            "W_0 Ep: 173 | Ep_r: -6\n",
            "W_1 Ep: 174 | Ep_r: -6\n",
            "W_0 Ep: 175 | Ep_r: -6\n",
            "W_1 Ep: 176 | Ep_r: -6\n",
            "W_0 Ep: 177 | Ep_r: -6\n",
            "W_1 Ep: 178 | Ep_r: -6\n",
            "W_0 Ep: 179 | Ep_r: -6\n",
            "W_1 Ep: 180 | Ep_r: -6\n",
            "W_0 Ep: 181 | Ep_r: -6\n",
            "W_1 Ep: 182 | Ep_r: -6\n",
            "W_0 Ep: 183 | Ep_r: -6\n",
            "W_1 Ep: 184 | Ep_r: -6\n",
            "W_0 Ep: 185 | Ep_r: -6\n",
            "W_1 Ep: 186 | Ep_r: -6\n",
            "W_0 Ep: 187 | Ep_r: -6\n",
            "W_1 Ep: 188 | Ep_r: -6\n",
            "W_0 Ep: 189 | Ep_r: -6\n",
            "W_1 Ep: 190 | Ep_r: -6\n",
            "W_0 Ep: 191 | Ep_r: -6\n",
            "W_1 Ep: 192 | Ep_r: -6\n",
            "W_0 Ep: 193 | Ep_r: -6\n",
            "W_1 Ep: 194 | Ep_r: -6\n",
            "W_0 Ep: 195 | Ep_r: -6\n",
            "W_1 Ep: 196 | Ep_r: -6\n",
            "W_0 Ep: 197 | Ep_r: -6\n",
            "W_1 Ep: 198 | Ep_r: -6\n",
            "W_0 Ep: 199 | Ep_r: -6\n",
            "W_1 Ep: 200 | Ep_r: -6\n"
          ]
        },
        {
          "output_type": "display_data",
          "data": {
            "text/plain": [
              "<Figure size 432x288 with 1 Axes>"
            ],
            "image/png": "[encoded data removed]"
          },
          "metadata": {
            "needs_background": "light"
          }
        }
      ]
    },
    {
      "cell_type": "code",
      "source": [
        ""
      ],
      "metadata": {
        "id": "DWF7ha6qXURt"
      },
      "id": "DWF7ha6qXURt",
      "execution_count": null,
      "outputs": []
    },
    {
      "cell_type": "code",
      "source": [
        ""
      ],
      "metadata": {
        "id": "O4oFFoHuXUUr"
      },
      "id": "O4oFFoHuXUUr",
      "execution_count": null,
      "outputs": []
    },
    {
      "cell_type": "code",
      "source": [
        ""
      ],
      "metadata": {
        "id": "fJuyYkU4XUXl"
      },
      "id": "fJuyYkU4XUXl",
      "execution_count": null,
      "outputs": []
    },
    {
      "cell_type": "code",
      "source": [
        ""
      ],
      "metadata": {
        "id": "3egu--hoXUaS"
      },
      "id": "3egu--hoXUaS",
      "execution_count": null,
      "outputs": []
    },
    {
      "cell_type": "code",
      "source": [
        ""
      ],
      "metadata": {
        "id": "HTlbhjtYXUdV"
      },
      "id": "HTlbhjtYXUdV",
      "execution_count": null,
      "outputs": []
    },
    {
      "cell_type": "code",
      "source": [
        ""
      ],
      "metadata": {
        "id": "I-psrVzKXUgP"
      },
      "id": "I-psrVzKXUgP",
      "execution_count": null,
      "outputs": []
    },
    {
      "cell_type": "code",
      "source": [
        ""
      ],
      "metadata": {
        "id": "J6m5Cy3CXUjI"
      },
      "id": "J6m5Cy3CXUjI",
      "execution_count": null,
      "outputs": []
    },
    {
      "cell_type": "code",
      "source": [
        ""
      ],
      "metadata": {
        "id": "z3cMCtpmXUl-"
      },
      "id": "z3cMCtpmXUl-",
      "execution_count": null,
      "outputs": []
    },
    {
      "cell_type": "code",
      "source": [
        ""
      ],
      "metadata": {
        "id": "hLozKUTmXUos"
      },
      "id": "hLozKUTmXUos",
      "execution_count": null,
      "outputs": []
    },
    {
      "cell_type": "code",
      "source": [
        ""
      ],
      "metadata": {
        "id": "ft-iC37uXUrK"
      },
      "id": "ft-iC37uXUrK",
      "execution_count": null,
      "outputs": []
    }
  ],
  "metadata": {
    "colab": {
      "name": "A3C.ipynb",
      "provenance": []
    },
    "language_info": {
      "name": "python"
    },
    "kernelspec": {
      "name": "python3",
      "display_name": "Python 3"
    },
    "gpuClass": "standard"
  },
  "nbformat": 4,
  "nbformat_minor": 5
}